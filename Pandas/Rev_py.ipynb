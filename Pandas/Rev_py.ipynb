{
 "cells": [
  {
   "cell_type": "code",
   "execution_count": 1,
   "id": "f336eac5",
   "metadata": {},
   "outputs": [
    {
     "name": "stdout",
     "output_type": "stream",
     "text": [
      "le cube a pour dimension : la longueur L = 85 cm et pour la largeur l = 12 cm et l'hauteur H = 66 cm \n"
     ]
    }
   ],
   "source": [
    "L_ = 85 \n",
    "H_ = 66 \n",
    "l_ = 12 \n",
    "print(f\"le cube a pour dimension : la longueur L = {L_} cm et pour la largeur l = {l_} cm et l'hauteur H = {H_} cm \") #simple guillemet vs double ... "
   ]
  },
  {
   "cell_type": "code",
   "execution_count": 2,
   "id": "2e9ea928",
   "metadata": {},
   "outputs": [
    {
     "name": "stdout",
     "output_type": "stream",
     "text": [
      "2401\n"
     ]
    }
   ],
   "source": [
    "e = 7**4 # 7 ous 4 ecriture exponentielle\n",
    "print(e)"
   ]
  },
  {
   "cell_type": "code",
   "execution_count": 3,
   "id": "505f05c5",
   "metadata": {},
   "outputs": [
    {
     "data": {
      "text/plain": [
       "1"
      ]
     },
     "execution_count": 3,
     "metadata": {},
     "output_type": "execute_result"
    }
   ],
   "source": [
    "457 % 3"
   ]
  },
  {
   "cell_type": "code",
   "execution_count": 4,
   "id": "622eb598",
   "metadata": {},
   "outputs": [
    {
     "name": "stdout",
     "output_type": "stream",
     "text": [
      "hello \" world \"\n",
      "hello ' world '\n",
      "hello \\ world \n",
      "hello \n",
      " world \n",
      "hello \t world \n"
     ]
    }
   ],
   "source": [
    "print(\"hello \\\" world \\\"\")\n",
    "print(\"hello \\' world \\'\")\n",
    "print(\"hello \\\\ world \")\n",
    "print(\"hello \\n world \")\n",
    "print(\"hello \\t world \")"
   ]
  },
  {
   "cell_type": "code",
   "execution_count": 5,
   "id": "156cc996",
   "metadata": {},
   "outputs": [
    {
     "name": "stdout",
     "output_type": "stream",
     "text": [
      "I'am a \"student\"\n"
     ]
    }
   ],
   "source": [
    "print(\"I\\'am a \\\"student\\\"\")"
   ]
  },
  {
   "cell_type": "code",
   "execution_count": 6,
   "id": "8514d294",
   "metadata": {},
   "outputs": [
    {
     "data": {
      "text/plain": [
       "(-28+21j)"
      ]
     },
     "execution_count": 6,
     "metadata": {},
     "output_type": "execute_result"
    }
   ],
   "source": [
    "(3+4j)*7j"
   ]
  },
  {
   "cell_type": "code",
   "execution_count": 7,
   "id": "8c03f222",
   "metadata": {},
   "outputs": [
    {
     "data": {
      "text/plain": [
       "(45-7j)"
      ]
     },
     "execution_count": 7,
     "metadata": {},
     "output_type": "execute_result"
    }
   ],
   "source": [
    "(3-5j)*(5+6j)"
   ]
  },
  {
   "cell_type": "code",
   "execution_count": 8,
   "id": "d7bf417f",
   "metadata": {},
   "outputs": [
    {
     "data": {
      "text/plain": [
       "(1, 0, 0)"
      ]
     },
     "execution_count": 8,
     "metadata": {},
     "output_type": "execute_result"
    }
   ],
   "source": [
    "1,00,00"
   ]
  },
  {
   "cell_type": "code",
   "execution_count": 9,
   "id": "24f8c7e2",
   "metadata": {},
   "outputs": [
    {
     "data": {
      "text/plain": [
       "float"
      ]
     },
     "execution_count": 9,
     "metadata": {},
     "output_type": "execute_result"
    }
   ],
   "source": [
    "type(4.5)"
   ]
  },
  {
   "cell_type": "code",
   "execution_count": 10,
   "id": "262fd31b",
   "metadata": {},
   "outputs": [
    {
     "data": {
      "text/plain": [
       "int"
      ]
     },
     "execution_count": 10,
     "metadata": {},
     "output_type": "execute_result"
    }
   ],
   "source": [
    "type(4)"
   ]
  },
  {
   "cell_type": "code",
   "execution_count": 11,
   "id": "62e38bbf",
   "metadata": {},
   "outputs": [
    {
     "data": {
      "text/plain": [
       "str"
      ]
     },
     "execution_count": 11,
     "metadata": {},
     "output_type": "execute_result"
    }
   ],
   "source": [
    "type('4')"
   ]
  },
  {
   "cell_type": "code",
   "execution_count": 12,
   "id": "9179b18a",
   "metadata": {
    "scrolled": false
   },
   "outputs": [
    {
     "name": "stdout",
     "output_type": "stream",
     "text": [
      "<class 'complex'>\n"
     ]
    },
    {
     "data": {
      "text/plain": [
       "(-1+0j)"
      ]
     },
     "execution_count": 12,
     "metadata": {},
     "output_type": "execute_result"
    }
   ],
   "source": [
    "print(type(1j**2))\n",
    "\n",
    "1j**2"
   ]
  },
  {
   "cell_type": "code",
   "execution_count": 13,
   "id": "b83f3031",
   "metadata": {},
   "outputs": [
    {
     "name": "stdout",
     "output_type": "stream",
     "text": [
      "3.141592653589793\n"
     ]
    },
    {
     "data": {
      "text/plain": [
       "2.718281828459045"
      ]
     },
     "execution_count": 13,
     "metadata": {},
     "output_type": "execute_result"
    }
   ],
   "source": [
    "import math\n",
    "print(math.pi)\n",
    "math.exp(1)"
   ]
  },
  {
   "cell_type": "code",
   "execution_count": 14,
   "id": "c4170b5b",
   "metadata": {},
   "outputs": [
    {
     "data": {
      "text/plain": [
       "9.433981132056603"
      ]
     },
     "execution_count": 14,
     "metadata": {},
     "output_type": "execute_result"
    }
   ],
   "source": [
    "math.sqrt(89)"
   ]
  },
  {
   "cell_type": "code",
   "execution_count": 15,
   "id": "6df31775",
   "metadata": {},
   "outputs": [],
   "source": [
    "import random "
   ]
  },
  {
   "cell_type": "code",
   "execution_count": 16,
   "id": "36a164b0",
   "metadata": {},
   "outputs": [
    {
     "data": {
      "text/plain": [
       "0.9003444825785846"
      ]
     },
     "execution_count": 16,
     "metadata": {},
     "output_type": "execute_result"
    }
   ],
   "source": [
    "random.random()"
   ]
  },
  {
   "cell_type": "code",
   "execution_count": 17,
   "id": "b35a06e8",
   "metadata": {},
   "outputs": [
    {
     "data": {
      "text/plain": [
       "2.2"
      ]
     },
     "execution_count": 17,
     "metadata": {},
     "output_type": "execute_result"
    }
   ],
   "source": [
    "random.choice([2.2,'e',random.choice([4,random.choice([5,363,'morocco']),'dehbi',7]),'RE','kamal'])"
   ]
  },
  {
   "cell_type": "code",
   "execution_count": 18,
   "id": "efbc66e3",
   "metadata": {},
   "outputs": [
    {
     "data": {
      "text/plain": [
       "8"
      ]
     },
     "execution_count": 18,
     "metadata": {},
     "output_type": "execute_result"
    }
   ],
   "source": [
    "S = 'students'\n",
    "len(S)"
   ]
  },
  {
   "cell_type": "code",
   "execution_count": 19,
   "id": "d5c8060e",
   "metadata": {},
   "outputs": [
    {
     "data": {
      "text/plain": [
       "'n'"
      ]
     },
     "execution_count": 19,
     "metadata": {},
     "output_type": "execute_result"
    }
   ],
   "source": [
    "S[-3]"
   ]
  },
  {
   "cell_type": "code",
   "execution_count": 20,
   "id": "c06521a4",
   "metadata": {},
   "outputs": [
    {
     "data": {
      "text/plain": [
       "'ude'"
      ]
     },
     "execution_count": 20,
     "metadata": {},
     "output_type": "execute_result"
    }
   ],
   "source": [
    "S[2:5]"
   ]
  },
  {
   "cell_type": "code",
   "execution_count": 21,
   "id": "adaea223",
   "metadata": {},
   "outputs": [
    {
     "data": {
      "text/plain": [
       "'studentsuniversity'"
      ]
     },
     "execution_count": 21,
     "metadata": {},
     "output_type": "execute_result"
    }
   ],
   "source": [
    "U = 'university'\n",
    "S + U "
   ]
  },
  {
   "cell_type": "code",
   "execution_count": 22,
   "id": "5e35ded9",
   "metadata": {},
   "outputs": [
    {
     "data": {
      "text/plain": [
       "'ntsunivers'"
      ]
     },
     "execution_count": 22,
     "metadata": {},
     "output_type": "execute_result"
    }
   ],
   "source": [
    "(S + U)[5:15]"
   ]
  },
  {
   "cell_type": "code",
   "execution_count": 23,
   "id": "88f761fd",
   "metadata": {
    "scrolled": true
   },
   "outputs": [
    {
     "name": "stdout",
     "output_type": "stream",
     "text": [
      "c = [1, 7, 5, 3, 2, 5]\n",
      "entrer un nbr: 12\n",
      "z + t = 35\n"
     ]
    }
   ],
   "source": [
    "a = [1,7,5]\n",
    "b = [3,2,5]\n",
    "c = a + b \n",
    "print('c =',c)\n",
    "z = sum(c)\n",
    "t = int(input('entrer un nbr: ' ))\n",
    "print('z + t =',z + t)"
   ]
  },
  {
   "cell_type": "code",
   "execution_count": 24,
   "id": "cc85ee5c",
   "metadata": {
    "scrolled": true
   },
   "outputs": [
    {
     "name": "stdout",
     "output_type": "stream",
     "text": [
      "[1, 7, 5] [3, 2, 5]\n"
     ]
    }
   ],
   "source": [
    "print(a,b)"
   ]
  },
  {
   "cell_type": "code",
   "execution_count": 25,
   "id": "77fdfedc",
   "metadata": {},
   "outputs": [
    {
     "name": "stdout",
     "output_type": "stream",
     "text": [
      "entrer u nbr: 14\n"
     ]
    },
    {
     "data": {
      "text/plain": [
       "int"
      ]
     },
     "execution_count": 25,
     "metadata": {},
     "output_type": "execute_result"
    }
   ],
   "source": [
    "y = int(input(f'entrer u nbr: ',))\n",
    "type(y)"
   ]
  },
  {
   "cell_type": "code",
   "execution_count": 26,
   "id": "7949a44c",
   "metadata": {},
   "outputs": [
    {
     "data": {
      "text/plain": [
       "6"
      ]
     },
     "execution_count": 26,
     "metadata": {},
     "output_type": "execute_result"
    }
   ],
   "source": [
    "len (c)"
   ]
  },
  {
   "cell_type": "code",
   "execution_count": 27,
   "id": "72ef2464",
   "metadata": {},
   "outputs": [
    {
     "data": {
      "text/plain": [
       "list"
      ]
     },
     "execution_count": 27,
     "metadata": {},
     "output_type": "execute_result"
    }
   ],
   "source": [
    "type(c)"
   ]
  },
  {
   "cell_type": "code",
   "execution_count": 28,
   "id": "090e4db3",
   "metadata": {},
   "outputs": [
    {
     "name": "stdout",
     "output_type": "stream",
     "text": [
      "5\n",
      "-45\n",
      "1543\n",
      "1543\n"
     ]
    },
    {
     "data": {
      "text/plain": [
       "1576"
      ]
     },
     "execution_count": 28,
     "metadata": {},
     "output_type": "execute_result"
    }
   ],
   "source": [
    "c = [-45, 6, 0, 72, 1543]\n",
    "\n",
    "print(len (c))\n",
    "print(c[0])\n",
    "print(c[-1])\n",
    "print(c[4])\n",
    "sum(c)\n"
   ]
  },
  {
   "cell_type": "code",
   "execution_count": 29,
   "id": "e5755e26",
   "metadata": {},
   "outputs": [
    {
     "data": {
      "text/plain": [
       "int"
      ]
     },
     "execution_count": 29,
     "metadata": {},
     "output_type": "execute_result"
    }
   ],
   "source": [
    "type(c[4])"
   ]
  },
  {
   "cell_type": "code",
   "execution_count": 30,
   "id": "db6e5678",
   "metadata": {},
   "outputs": [
    {
     "data": {
      "text/plain": [
       "[-45, 6, 0, 72]"
      ]
     },
     "execution_count": 30,
     "metadata": {},
     "output_type": "execute_result"
    }
   ],
   "source": [
    "c[:-1] #Retire le dernier élément de la liste"
   ]
  },
  {
   "cell_type": "code",
   "execution_count": 31,
   "id": "0646c04e",
   "metadata": {},
   "outputs": [
    {
     "data": {
      "text/plain": [
       "bool"
      ]
     },
     "execution_count": 31,
     "metadata": {},
     "output_type": "execute_result"
    }
   ],
   "source": [
    "type(True) #Same thing with False ! MAJ_important !"
   ]
  },
  {
   "cell_type": "code",
   "execution_count": 32,
   "id": "3cab4029",
   "metadata": {},
   "outputs": [
    {
     "data": {
      "text/plain": [
       "['1', 2, '2', 4]"
      ]
     },
     "execution_count": 32,
     "metadata": {},
     "output_type": "execute_result"
    }
   ],
   "source": [
    "list(('1',2,\"2\",4))"
   ]
  },
  {
   "cell_type": "code",
   "execution_count": 33,
   "id": "ad2b0cf8",
   "metadata": {},
   "outputs": [],
   "source": [
    "p = list(('k','a',\"m\",'a','l'))"
   ]
  },
  {
   "cell_type": "code",
   "execution_count": 34,
   "id": "c9411726",
   "metadata": {},
   "outputs": [
    {
     "name": "stdout",
     "output_type": "stream",
     "text": [
      "kamal\n"
     ]
    }
   ],
   "source": [
    "chaine = ''\n",
    "print(chaine.join(p)) #or print(''.join(p))"
   ]
  },
  {
   "cell_type": "code",
   "execution_count": 35,
   "id": "7da8f14e",
   "metadata": {
    "scrolled": true
   },
   "outputs": [
    {
     "name": "stdout",
     "output_type": "stream",
     "text": [
      "k_a_m_a_l\n"
     ]
    }
   ],
   "source": [
    "print(\"_\".join(p))"
   ]
  },
  {
   "cell_type": "code",
   "execution_count": 36,
   "id": "cdee4e56",
   "metadata": {},
   "outputs": [
    {
     "name": "stdout",
     "output_type": "stream",
     "text": [
      "rouge, bleu, marron, noir, blanc\n"
     ]
    }
   ],
   "source": [
    "col = list(('rouge','bleu',\"marron\",'noir','blanc'))\n",
    "print(\", \".join(col))"
   ]
  },
  {
   "cell_type": "code",
   "execution_count": 37,
   "id": "7395e23e",
   "metadata": {},
   "outputs": [
    {
     "name": "stdout",
     "output_type": "stream",
     "text": [
      "-20\n"
     ]
    }
   ],
   "source": [
    "print(sum(range(0,-9,-2))) #range(début(optionnel), fin, incrémentation(optionnel))"
   ]
  },
  {
   "cell_type": "code",
   "execution_count": 38,
   "id": "0dd022eb",
   "metadata": {},
   "outputs": [
    {
     "name": "stdout",
     "output_type": "stream",
     "text": [
      "['k', 'a', 'm', 'a', 'l', 4]\n"
     ]
    }
   ],
   "source": [
    "p.append(4) #Ajouter un nouvel élément à la fin d'une liste.\n",
    "print(p)"
   ]
  },
  {
   "cell_type": "code",
   "execution_count": 39,
   "id": "a90d9f73",
   "metadata": {},
   "outputs": [
    {
     "name": "stdout",
     "output_type": "stream",
     "text": [
      "['_7', 'k', 'a', 'm', 'a', 'l', 4]\n"
     ]
    }
   ],
   "source": [
    "p.insert(0,'_7') #Ajouter un nouvel élément dans une liste à une position spécifique\n",
    "print(p)"
   ]
  },
  {
   "cell_type": "code",
   "execution_count": 40,
   "id": "258f56e6",
   "metadata": {},
   "outputs": [
    {
     "name": "stdout",
     "output_type": "stream",
     "text": [
      "['k', 'a', 'm', 'a', 'l', 4]\n"
     ]
    }
   ],
   "source": [
    "p.remove('_7') #Supprimer un élément d'une liste\n",
    "print(p)"
   ]
  },
  {
   "cell_type": "code",
   "execution_count": 41,
   "id": "43ed908a",
   "metadata": {},
   "outputs": [
    {
     "name": "stdout",
     "output_type": "stream",
     "text": [
      "['k', 'a', 'm', 'a', 'l']\n"
     ]
    }
   ],
   "source": [
    "p.remove(4) \n",
    "print(p)"
   ]
  },
  {
   "cell_type": "code",
   "execution_count": 42,
   "id": "2aea20fe",
   "metadata": {
    "scrolled": true
   },
   "outputs": [
    {
     "name": "stdout",
     "output_type": "stream",
     "text": [
      "o =  ['k', 'a', 'm', 'a', 'l']\n"
     ]
    }
   ],
   "source": [
    "o = p.copy() # Copier une liste.\n",
    "print('o = ',o)"
   ]
  },
  {
   "cell_type": "code",
   "execution_count": 43,
   "id": "61239efb",
   "metadata": {
    "scrolled": true
   },
   "outputs": [
    {
     "name": "stdout",
     "output_type": "stream",
     "text": [
      "['k', 'a', 'm', 'a', 'l']\n",
      "['k', 'a', 'm', 'a']\n"
     ]
    }
   ],
   "source": [
    "print(p)\n",
    "p.pop()   # Supprimer l'index spécifié. Si vous ne spécifiez pas l'index, la méthode pop() supprime le dernier élément.\n",
    "print(p)"
   ]
  },
  {
   "cell_type": "code",
   "execution_count": 44,
   "id": "0c284c3e",
   "metadata": {},
   "outputs": [
    {
     "name": "stdout",
     "output_type": "stream",
     "text": [
      "['k', 'a', 'm', 'a', 'l']\n",
      "['k', 'a', 'm', 'a']\n"
     ]
    }
   ],
   "source": [
    "p.append('l')   \n",
    "print(p)\n",
    "p.pop(4)\n",
    "print(p)"
   ]
  },
  {
   "cell_type": "code",
   "execution_count": 45,
   "id": "1e19daf1",
   "metadata": {},
   "outputs": [
    {
     "name": "stdout",
     "output_type": "stream",
     "text": [
      "p = []\n"
     ]
    }
   ],
   "source": [
    "p.clear() #La function clear() vide la liste. La liste reste, mais elle n'a pas de contenu\n",
    "print('p =',p)"
   ]
  },
  {
   "cell_type": "code",
   "execution_count": 46,
   "id": "6d79eabc",
   "metadata": {},
   "outputs": [
    {
     "name": "stdout",
     "output_type": "stream",
     "text": [
      "[-788, 4, 8, 96, 96, 96, 334]\n"
     ]
    }
   ],
   "source": [
    "r = [ 4, -788, 334, 8, 96,96,96 ]\n",
    "r.sort() #Trier la liste par ordre alphanumérique, croissant, par défaut.\n",
    "print(r)"
   ]
  },
  {
   "cell_type": "code",
   "execution_count": 47,
   "id": "3bf6d37c",
   "metadata": {
    "scrolled": true
   },
   "outputs": [
    {
     "name": "stdout",
     "output_type": "stream",
     "text": [
      "[334, 96, 96, 96, 8, 4, -788]\n"
     ]
    }
   ],
   "source": [
    "r.reverse() # Inverser l'ordre de la liste.\n",
    "print(r)"
   ]
  },
  {
   "cell_type": "code",
   "execution_count": 48,
   "id": "0ed4c89c",
   "metadata": {},
   "outputs": [
    {
     "data": {
      "text/plain": [
       "3"
      ]
     },
     "execution_count": 48,
     "metadata": {},
     "output_type": "execute_result"
    }
   ],
   "source": [
    "r.count(96) #Renvoyer le nombre d'éléments avec la valeur spécifiée."
   ]
  },
  {
   "cell_type": "code",
   "execution_count": 49,
   "id": "a8318eee",
   "metadata": {},
   "outputs": [
    {
     "name": "stdout",
     "output_type": "stream",
     "text": [
      "<zip object at 0x0000019D71E2A680>\n"
     ]
    },
    {
     "data": {
      "text/plain": [
       "4"
      ]
     },
     "execution_count": 49,
     "metadata": {},
     "output_type": "execute_result"
    }
   ],
   "source": [
    "a = zip(r) # Zip() Créer un itérateur de tuples en mappant des éléments à partir de données specifiques (int, str, float, list, etc.) en fonction de leurs numéros d'index. Utilisation: zip(premier_itérateur, deuxième_iterateur, …)\n",
    "print(a)\n",
    "r.index(8) # Index() Renvoie l'index des premiers éléments avec la valeur spécifiée.r = [334, 96, 96, 96, 8, 4, -788]"
   ]
  },
  {
   "cell_type": "code",
   "execution_count": 50,
   "id": "e10348aa",
   "metadata": {},
   "outputs": [
    {
     "name": "stdout",
     "output_type": "stream",
     "text": [
      "[11, 31, 41, 74, 85]\n"
     ]
    }
   ],
   "source": [
    " liste = [41, 85, 11, 31, 74]\n",
    " liste.sort()\n",
    "print(liste)"
   ]
  },
  {
   "cell_type": "code",
   "execution_count": 51,
   "id": "2998e198",
   "metadata": {},
   "outputs": [
    {
     "name": "stdout",
     "output_type": "stream",
     "text": [
      "[11, 31, 41, 74, 85, 12]\n"
     ]
    }
   ],
   "source": [
    "liste.append(12)\n",
    "print(liste)"
   ]
  },
  {
   "cell_type": "code",
   "execution_count": 52,
   "id": "412b2a18",
   "metadata": {},
   "outputs": [
    {
     "name": "stdout",
     "output_type": "stream",
     "text": [
      "[12, 85, 74, 41, 31, 11]\n"
     ]
    }
   ],
   "source": [
    "liste.reverse()\n",
    "print(liste)"
   ]
  },
  {
   "cell_type": "code",
   "execution_count": 53,
   "id": "1d872264",
   "metadata": {},
   "outputs": [
    {
     "data": {
      "text/plain": [
       "2"
      ]
     },
     "execution_count": 53,
     "metadata": {},
     "output_type": "execute_result"
    }
   ],
   "source": [
    "liste.index(74)"
   ]
  },
  {
   "cell_type": "code",
   "execution_count": 54,
   "id": "c70d65dc",
   "metadata": {},
   "outputs": [
    {
     "name": "stdout",
     "output_type": "stream",
     "text": [
      "[12, 85, 74, 31, 11]\n"
     ]
    }
   ],
   "source": [
    "liste.remove(41)\n",
    "print(liste)"
   ]
  },
  {
   "cell_type": "code",
   "execution_count": 55,
   "id": "00acfa78",
   "metadata": {},
   "outputs": [
    {
     "data": {
      "text/plain": [
       "[85, 74]"
      ]
     },
     "execution_count": 55,
     "metadata": {},
     "output_type": "execute_result"
    }
   ],
   "source": [
    "liste[1:3]"
   ]
  },
  {
   "cell_type": "code",
   "execution_count": 56,
   "id": "0dc1ade1",
   "metadata": {},
   "outputs": [
    {
     "data": {
      "text/plain": [
       "[12]"
      ]
     },
     "execution_count": 56,
     "metadata": {},
     "output_type": "execute_result"
    }
   ],
   "source": [
    "liste[0:1]\n"
   ]
  },
  {
   "cell_type": "code",
   "execution_count": 57,
   "id": "e63ef58a",
   "metadata": {},
   "outputs": [
    {
     "data": {
      "text/plain": [
       "[12, 85]"
      ]
     },
     "execution_count": 57,
     "metadata": {},
     "output_type": "execute_result"
    }
   ],
   "source": [
    "liste[0:-3]"
   ]
  },
  {
   "cell_type": "code",
   "execution_count": 58,
   "id": "c11c9155",
   "metadata": {},
   "outputs": [
    {
     "name": "stdout",
     "output_type": "stream",
     "text": [
      "<zip object at 0x0000019D71EB4A00>\n"
     ]
    }
   ],
   "source": [
    "po = [4,5,6,8]\n",
    "th = zip(liste, po)\n",
    "print(th)"
   ]
  },
  {
   "cell_type": "code",
   "execution_count": 59,
   "id": "cc7b6d52",
   "metadata": {},
   "outputs": [
    {
     "data": {
      "text/plain": [
       "('A', 'snake', 18.3, 'green', 'cat', 5)"
      ]
     },
     "execution_count": 59,
     "metadata": {},
     "output_type": "execute_result"
    }
   ],
   "source": [
    "student_tuple = ('red', 'snake', 18.3, 'green', 'cat', 5)\n",
    "new_tuple = ('A',) + student_tuple[1:]\n",
    "new_tuple"
   ]
  },
  {
   "cell_type": "code",
   "execution_count": 60,
   "id": "feecc0fe",
   "metadata": {},
   "outputs": [
    {
     "data": {
      "text/plain": [
       "{'black', 'blue', 'red', 'white', 'yellow'}"
      ]
     },
     "execution_count": 60,
     "metadata": {},
     "output_type": "execute_result"
    }
   ],
   "source": [
    "colors = set(('red', 'yellow', 'blue','red','black' ,'white'))\n",
    "colors"
   ]
  },
  {
   "cell_type": "code",
   "execution_count": 61,
   "id": "ccdf4c98",
   "metadata": {},
   "outputs": [
    {
     "data": {
      "text/plain": [
       "5"
      ]
     },
     "execution_count": 61,
     "metadata": {},
     "output_type": "execute_result"
    }
   ],
   "source": [
    "len(colors)"
   ]
  },
  {
   "cell_type": "code",
   "execution_count": 62,
   "id": "73f39bee",
   "metadata": {},
   "outputs": [
    {
     "data": {
      "text/plain": [
       "True"
      ]
     },
     "execution_count": 62,
     "metadata": {},
     "output_type": "execute_result"
    }
   ],
   "source": [
    "'red' in colors"
   ]
  },
  {
   "cell_type": "code",
   "execution_count": 63,
   "id": "a0c8f198",
   "metadata": {},
   "outputs": [
    {
     "data": {
      "text/plain": [
       "False"
      ]
     },
     "execution_count": 63,
     "metadata": {},
     "output_type": "execute_result"
    }
   ],
   "source": [
    "'purple'in colors "
   ]
  },
  {
   "cell_type": "code",
   "execution_count": 64,
   "id": "c3013821",
   "metadata": {},
   "outputs": [
    {
     "name": "stdout",
     "output_type": "stream",
     "text": [
      "blue_black_white_yellow_red_"
     ]
    }
   ],
   "source": [
    "for color in colors:\n",
    "    print(color.lower(), end ='_') #upper MAJ / lower mini"
   ]
  },
  {
   "cell_type": "code",
   "execution_count": 65,
   "id": "262b866a",
   "metadata": {},
   "outputs": [
    {
     "name": "stdout",
     "output_type": "stream",
     "text": [
      "<zip object at 0x0000019D71EBD580>\n"
     ]
    },
    {
     "data": {
      "text/plain": [
       "{(1, 0), (2, 1), (3, 2), (4, 3), (5, 4), (6, 5), (6, 6), (7, 7), (8, 8)}"
      ]
     },
     "execution_count": 65,
     "metadata": {},
     "output_type": "execute_result"
    }
   ],
   "source": [
    "q = [1, 2, 3, 4, 5, 6, 6, 7, 8, 0, 5, 4] \n",
    "d = set(q)\n",
    "g = zip(q,d)\n",
    "print(g)\n",
    "set(g)"
   ]
  },
  {
   "cell_type": "code",
   "execution_count": 66,
   "id": "6f82119b",
   "metadata": {},
   "outputs": [
    {
     "data": {
      "text/plain": [
       "{1, 2, 3, 5, 6}"
      ]
     },
     "execution_count": 66,
     "metadata": {},
     "output_type": "execute_result"
    }
   ],
   "source": [
    "{1, 2, 3} | {5,2,6} # or {1, 2, 3}.union({5,2,6})"
   ]
  },
  {
   "cell_type": "code",
   "execution_count": 67,
   "id": "3a060bb5",
   "metadata": {},
   "outputs": [
    {
     "data": {
      "text/plain": [
       "{1, 2}"
      ]
     },
     "execution_count": 67,
     "metadata": {},
     "output_type": "execute_result"
    }
   ],
   "source": [
    "{1, 2, 3} & {5,2,6} # or {1, 2, 3}.intersection({5,2,6})\n",
    "{1, 2, 3}.intersection({5,2,1})"
   ]
  },
  {
   "cell_type": "code",
   "execution_count": 68,
   "id": "2a9cd559",
   "metadata": {},
   "outputs": [
    {
     "data": {
      "text/plain": [
       "{1, 3}"
      ]
     },
     "execution_count": 68,
     "metadata": {},
     "output_type": "execute_result"
    }
   ],
   "source": [
    "{1, 2, 3} - {5,2,6} #un ensemble composé des éléments de l‘ensemble de gauche qui ne sont pas présents dansl'opérande (l’itérable) de droite."
   ]
  },
  {
   "cell_type": "code",
   "execution_count": 69,
   "id": "69719a0e",
   "metadata": {},
   "outputs": [
    {
     "name": "stdout",
     "output_type": "stream",
     "text": [
      "{5, 6}\n"
     ]
    },
    {
     "data": {
      "text/plain": [
       "{5, 6, 7}"
      ]
     },
     "execution_count": 69,
     "metadata": {},
     "output_type": "execute_result"
    }
   ],
   "source": [
    "print({5,2,6} - {1,2,3})    # or {5,2,6}.difference({1, 2, 3})\n",
    "\n",
    "{5,2,6,7}.difference({1,2,3,9})"
   ]
  },
  {
   "cell_type": "code",
   "execution_count": 70,
   "id": "7026a43c",
   "metadata": {},
   "outputs": [
    {
     "name": "stdout",
     "output_type": "stream",
     "text": [
      "ji = {2, 5, 6, 7}\n",
      "jp = {1, 2, 3, 9}\n",
      "ji' = {5, 6, 7}\n"
     ]
    }
   ],
   "source": [
    "ji = {5,2,6,7}\n",
    "jp = {1,2,3,9}\n",
    "print('ji =',ji)\n",
    "print('jp =',jp)\n",
    "ji.difference_update(jp) # la fonction difference_update()supprime les éléments indésirables de l'ensemble d'origine.\n",
    "print('ji\\' =',ji)"
   ]
  },
  {
   "cell_type": "code",
   "execution_count": 71,
   "id": "03cb0feb",
   "metadata": {},
   "outputs": [
    {
     "name": "stdout",
     "output_type": "stream",
     "text": [
      "ti = {3, 6, 7, 8, 9}\n",
      "tp = {1, 3, 5, 7, 9}\n",
      "ti ^ tp = {1, 5, 6, 8}\n",
      "ti ^ tp = {1, 5, 6, 8}\n"
     ]
    }
   ],
   "source": [
    "ti = {7, 8, 9, 3, 6}\n",
    "\n",
    "tp = {7, 9, 1, 3, 5}\n",
    "\n",
    "print('ti =',ti)\n",
    "\n",
    "print('tp =',tp)\n",
    "\n",
    "print('ti ^ tp =',ti ^ tp )#La différence symétrique entre deux ensembles est un ensemble\n",
    "                            #composé des éléments des deux ensembles (ou un ensemble avec un\n",
    "                            #autre itérable) qui ne sont pas en commun (opposé de l’intersection).\n",
    "                            #Vous pouvez calculer la différence symétrique avec l'opérateur ^ ou en\n",
    "                            #utilisant la méthode symmetric_difference du type d'ensemble\n",
    "                \n",
    "print('ti ^ tp =',ti.symmetric_difference(tp))"
   ]
  },
  {
   "cell_type": "code",
   "execution_count": 72,
   "id": "c488691f",
   "metadata": {},
   "outputs": [
    {
     "data": {
      "text/plain": [
       "False"
      ]
     },
     "execution_count": 72,
     "metadata": {},
     "output_type": "execute_result"
    }
   ],
   "source": [
    "ti.isdisjoint(tp) # Deux ensembles sont disjoints s'ils n'ont pas d'éléments communs. "
   ]
  },
  {
   "cell_type": "code",
   "execution_count": 73,
   "id": "3cf6e255",
   "metadata": {},
   "outputs": [
    {
     "data": {
      "text/plain": [
       "True"
      ]
     },
     "execution_count": 73,
     "metadata": {},
     "output_type": "execute_result"
    }
   ],
   "source": [
    "{1, 5 , 6}.isdisjoint({4,9,7})"
   ]
  },
  {
   "cell_type": "code",
   "execution_count": 74,
   "id": "17521783",
   "metadata": {},
   "outputs": [
    {
     "data": {
      "text/plain": [
       "{0, 1, 2, 3, 4, 5, 6, 7, 8, 9, '_'}"
      ]
     },
     "execution_count": 74,
     "metadata": {},
     "output_type": "execute_result"
    }
   ],
   "source": [
    "numbers = {1 , 8 ,'_'}\n",
    "numbers.update(range(10)) #update() mets à jour l'ensemble actuel en y ajoutant des éléments provenant d'un autre ensemble\n",
    "numbers"
   ]
  },
  {
   "cell_type": "code",
   "execution_count": 75,
   "id": "0af7d47d",
   "metadata": {},
   "outputs": [
    {
     "data": {
      "text/plain": [
       "{0, 1, 2, 3, 4, 5, 6, 7, 77, 8, 9, '_'}"
      ]
     },
     "execution_count": 75,
     "metadata": {},
     "output_type": "execute_result"
    }
   ],
   "source": [
    "numbers.add(77)\n",
    "numbers"
   ]
  },
  {
   "cell_type": "code",
   "execution_count": 76,
   "id": "6e361e43",
   "metadata": {},
   "outputs": [
    {
     "data": {
      "text/plain": [
       "{0, 1, 2, 3, 4, 5, 6, 7, 8, 9, '_'}"
      ]
     },
     "execution_count": 76,
     "metadata": {},
     "output_type": "execute_result"
    }
   ],
   "source": [
    "numbers.remove(77)\n",
    "numbers"
   ]
  },
  {
   "cell_type": "code",
   "execution_count": 77,
   "id": "a0685b92",
   "metadata": {},
   "outputs": [
    {
     "data": {
      "text/plain": [
       "{1, 2, 3, 4, 5, 6, 7, 8, 9, '_'}"
      ]
     },
     "execution_count": 77,
     "metadata": {},
     "output_type": "execute_result"
    }
   ],
   "source": [
    "numbers.pop()\n",
    "numbers"
   ]
  },
  {
   "cell_type": "code",
   "execution_count": 78,
   "id": "9f384c97",
   "metadata": {},
   "outputs": [
    {
     "data": {
      "text/plain": [
       "set()"
      ]
     },
     "execution_count": 78,
     "metadata": {},
     "output_type": "execute_result"
    }
   ],
   "source": [
    "numbers.clear()\n",
    "numbers"
   ]
  },
  {
   "cell_type": "code",
   "execution_count": 79,
   "id": "0c9499ba",
   "metadata": {
    "scrolled": true
   },
   "outputs": [
    {
     "name": "stdout",
     "output_type": "stream",
     "text": [
      "{0, 1, 2, 3, 4, 5, 6, 7, 8, 9}\n",
      "{1, 2, 3, 4, 5, 6, 7, 8, 9}\n"
     ]
    }
   ],
   "source": [
    "a = set(range(10))\n",
    "print(a)\n",
    "a.pop()\n",
    "print(a)"
   ]
  },
  {
   "cell_type": "code",
   "execution_count": 80,
   "id": "40e92b52",
   "metadata": {},
   "outputs": [
    {
     "data": {
      "text/plain": [
       "{'Black', 'Orange', 'Yellow', 'chat', 'cheval', 'chien'}"
      ]
     },
     "execution_count": 80,
     "metadata": {},
     "output_type": "execute_result"
    }
   ],
   "source": [
    "set_colors = {\"Yellow\" , \"Orange\", \"Black\"}\n",
    "list_animals = [\"chat\", \"chien\",\"cheval\"]\n",
    "set_colors.update(list_animals)\n",
    "set_colors "
   ]
  },
  {
   "cell_type": "code",
   "execution_count": 81,
   "id": "93e65adc",
   "metadata": {},
   "outputs": [
    {
     "name": "stdout",
     "output_type": "stream",
     "text": [
      "{40, 50, 30}\n",
      "{70, 40, 10, 50, 20, 60, 30}\n",
      "None\n",
      "{10, 20}\n"
     ]
    }
   ],
   "source": [
    "a = {10, 20, 30, 40, 50}\n",
    "b = {30, 40, 50, 60, 70}\n",
    "print(a & b) \n",
    "print(a | b)\n",
    "print(a.difference_update(b))\n",
    "print(a)"
   ]
  },
  {
   "cell_type": "code",
   "execution_count": 82,
   "id": "e611ec7c",
   "metadata": {
    "scrolled": true
   },
   "outputs": [],
   "source": [
    "a = {10, 20, 30, 40, 50}\n",
    "a.difference_update([10, 20, 30])"
   ]
  },
  {
   "cell_type": "code",
   "execution_count": 83,
   "id": "918f7206",
   "metadata": {},
   "outputs": [
    {
     "data": {
      "text/plain": [
       "{30, 60, 70}"
      ]
     },
     "execution_count": 83,
     "metadata": {},
     "output_type": "execute_result"
    }
   ],
   "source": [
    "a^b "
   ]
  },
  {
   "cell_type": "code",
   "execution_count": 84,
   "id": "2d6bbe60",
   "metadata": {
    "scrolled": true
   },
   "outputs": [
    {
     "name": "stdout",
     "output_type": "stream",
     "text": [
      "[6, 8, 10, 12, 14, 16, 18]\n",
      "7\n",
      "(100, 106, 112, 118, 124, 130, 136)\n",
      "7\n"
     ]
    }
   ],
   "source": [
    "x = list(range(6,20,2))\n",
    "print(x)\n",
    "print(len(x))\n",
    "y = tuple(range(100,137,6))\n",
    "print(y)\n",
    "print(len(y))"
   ]
  },
  {
   "cell_type": "code",
   "execution_count": 85,
   "id": "8b738041",
   "metadata": {},
   "outputs": [
    {
     "name": "stdout",
     "output_type": "stream",
     "text": [
      "6\n"
     ]
    }
   ],
   "source": [
    "z = { 5 , 7 , 323 , 124 , 132, 13}\n",
    "print(len(z))"
   ]
  },
  {
   "cell_type": "code",
   "execution_count": 86,
   "id": "71969c92",
   "metadata": {},
   "outputs": [
    {
     "data": {
      "text/plain": [
       "set()"
      ]
     },
     "execution_count": 86,
     "metadata": {},
     "output_type": "execute_result"
    }
   ],
   "source": [
    "z.intersection(x,y)"
   ]
  },
  {
   "cell_type": "code",
   "execution_count": 87,
   "id": "9f7301ce",
   "metadata": {},
   "outputs": [
    {
     "data": {
      "text/plain": [
       "{5, 7, 13, 132, 323}"
      ]
     },
     "execution_count": 87,
     "metadata": {},
     "output_type": "execute_result"
    }
   ],
   "source": [
    "z.difference(x,y)"
   ]
  },
  {
   "cell_type": "code",
   "execution_count": 88,
   "id": "d4b151fe",
   "metadata": {},
   "outputs": [
    {
     "data": {
      "text/plain": [
       "{5, 7, 13, 132, 323}"
      ]
     },
     "execution_count": 88,
     "metadata": {},
     "output_type": "execute_result"
    }
   ],
   "source": [
    "z.difference(y)"
   ]
  },
  {
   "cell_type": "code",
   "execution_count": 89,
   "id": "11f4d02f",
   "metadata": {},
   "outputs": [
    {
     "data": {
      "text/plain": [
       "{5, 7, 13, 124, 132, 323}"
      ]
     },
     "execution_count": 89,
     "metadata": {},
     "output_type": "execute_result"
    }
   ],
   "source": [
    "z.difference(x)"
   ]
  },
  {
   "cell_type": "code",
   "execution_count": 90,
   "id": "8ffd217e",
   "metadata": {},
   "outputs": [
    {
     "name": "stdout",
     "output_type": "stream",
     "text": [
      "{130, 323, 132, 5, 6, 7, 8, 136, 10, 12, 13, 14, 16, 18, 100, 106, 112, 118, 124}\n",
      "19\n"
     ]
    }
   ],
   "source": [
    "print(z.union(x,y))\n",
    "print(len(z.union(x,y)))"
   ]
  },
  {
   "cell_type": "code",
   "execution_count": 91,
   "id": "8a0335d5",
   "metadata": {},
   "outputs": [
    {
     "data": {
      "text/plain": [
       "{5, 7, 13, 132, 323}"
      ]
     },
     "execution_count": 91,
     "metadata": {},
     "output_type": "execute_result"
    }
   ],
   "source": [
    "z.difference_update(x,y)\n",
    "z"
   ]
  },
  {
   "cell_type": "code",
   "execution_count": 92,
   "id": "e4bcea96",
   "metadata": {},
   "outputs": [
    {
     "data": {
      "text/plain": [
       "[(323, 6, 100), (132, 8, 106), (5, 10, 112), (7, 12, 118), (13, 14, 124)]"
      ]
     },
     "execution_count": 92,
     "metadata": {},
     "output_type": "execute_result"
    }
   ],
   "source": [
    "d = list(zip(z,x,y))\n",
    "d"
   ]
  },
  {
   "cell_type": "code",
   "execution_count": 93,
   "id": "3fba6777",
   "metadata": {},
   "outputs": [],
   "source": [
    "N = d[1][1]"
   ]
  },
  {
   "cell_type": "code",
   "execution_count": 94,
   "id": "b659259d",
   "metadata": {},
   "outputs": [],
   "source": [
    "M = d[2][2]"
   ]
  },
  {
   "cell_type": "code",
   "execution_count": 95,
   "id": "2a9968f1",
   "metadata": {},
   "outputs": [
    {
     "data": {
      "text/plain": [
       "157351976"
      ]
     },
     "execution_count": 95,
     "metadata": {},
     "output_type": "execute_result"
    }
   ],
   "source": [
    "N*5 + M**4"
   ]
  },
  {
   "cell_type": "code",
   "execution_count": 96,
   "id": "1d33bdef",
   "metadata": {},
   "outputs": [
    {
     "data": {
      "text/plain": [
       "{'un': 'uno', ('chat', 'chien'): 'animaux'}"
      ]
     },
     "execution_count": 96,
     "metadata": {},
     "output_type": "execute_result"
    }
   ],
   "source": [
    "#dictionnaire\n",
    "D = dict()\n",
    "D ['un'] = 'uno'\n",
    "D [('chat','chien')] = 'animaux'\n",
    "D"
   ]
  },
  {
   "cell_type": "code",
   "execution_count": 97,
   "id": "24725ac7",
   "metadata": {},
   "outputs": [],
   "source": [
    "T = {'Finland':'fi','South Africa':'za','Nepal':'np'}"
   ]
  },
  {
   "cell_type": "code",
   "execution_count": 98,
   "id": "65c01f1d",
   "metadata": {},
   "outputs": [
    {
     "name": "stdout",
     "output_type": "stream",
     "text": [
      "3\n"
     ]
    },
    {
     "data": {
      "text/plain": [
       "{'Finland': 'fi', 'South Africa': 'za', 'Nepal': 'np'}"
      ]
     },
     "execution_count": 98,
     "metadata": {},
     "output_type": "execute_result"
    }
   ],
   "source": [
    "print(len(T))\n",
    "T"
   ]
  },
  {
   "cell_type": "code",
   "execution_count": 99,
   "id": "e4ab19d8",
   "metadata": {},
   "outputs": [
    {
     "data": {
      "text/plain": [
       "'fi'"
      ]
     },
     "execution_count": 99,
     "metadata": {},
     "output_type": "execute_result"
    }
   ],
   "source": [
    "T['Finland'] "
   ]
  },
  {
   "cell_type": "code",
   "execution_count": 100,
   "id": "a62f876d",
   "metadata": {},
   "outputs": [
    {
     "name": "stdout",
     "output_type": "stream",
     "text": [
      "Qualité\n"
     ]
    }
   ],
   "source": [
    "nouvelle_formation = {\n",
    "    \n",
    "\"responsable\": \"Jeanne d'Arc\",\n",
    "    \n",
    "\"nom_de_formation\": \"Qualité\",\n",
    "    \n",
    "\"date_de_début\": \"01/04/2023\",\n",
    "    \n",
    "\"Normes_imporatantes\": [\"iso9001\",\"iso14001\",\"iso9004\"]\n",
    "    \n",
    "}\n",
    "\n",
    "print(nouvelle_formation[\"nom_de_formation\"]) #or nouvelle_formation[\"nom_de_formation\"] out : 'Qualité'"
   ]
  },
  {
   "cell_type": "code",
   "execution_count": 101,
   "id": "5aa6b23c",
   "metadata": {},
   "outputs": [],
   "source": [
    "nouvelle_formation[\"durée\"] = \"3 mois\""
   ]
  },
  {
   "cell_type": "code",
   "execution_count": 102,
   "id": "b7472f26",
   "metadata": {},
   "outputs": [
    {
     "data": {
      "text/plain": [
       "{'responsable': \"Jeanne d'Arc\",\n",
       " 'nom_de_formation': 'Qualité',\n",
       " 'date_de_début': '01/04/2023',\n",
       " 'Normes_imporatantes': ['iso9001', 'iso14001', 'iso9004'],\n",
       " 'durée': '3 mois'}"
      ]
     },
     "execution_count": 102,
     "metadata": {},
     "output_type": "execute_result"
    }
   ],
   "source": [
    "nouvelle_formation"
   ]
  },
  {
   "cell_type": "code",
   "execution_count": 103,
   "id": "d919c999",
   "metadata": {},
   "outputs": [
    {
     "data": {
      "text/plain": [
       "{'nom_de_formation': 'Qualité',\n",
       " 'date_de_début': '01/04/2023',\n",
       " 'Normes_imporatantes': ['iso9001', 'iso14001', 'iso9004'],\n",
       " 'durée': '3 mois'}"
      ]
     },
     "execution_count": 103,
     "metadata": {},
     "output_type": "execute_result"
    }
   ],
   "source": [
    "del nouvelle_formation[\"responsable\"] #supprimer une paire clé_valeur\n",
    "nouvelle_formation"
   ]
  },
  {
   "cell_type": "code",
   "execution_count": 104,
   "id": "7cab54a7",
   "metadata": {},
   "outputs": [
    {
     "data": {
      "text/plain": [
       "'01/04/2023'"
      ]
     },
     "execution_count": 104,
     "metadata": {},
     "output_type": "execute_result"
    }
   ],
   "source": [
    "nouvelle_formation.pop(\"date_de_début\") #supprimez la clé-valeur 'date_de_début': 01/04/2023"
   ]
  },
  {
   "cell_type": "code",
   "execution_count": 105,
   "id": "18d00f61",
   "metadata": {},
   "outputs": [
    {
     "data": {
      "text/plain": [
       "{'nom_de_formation': 'Qualité',\n",
       " 'Normes_imporatantes': ['iso9001', 'iso14001', 'iso9004'],\n",
       " 'durée': '3 mois'}"
      ]
     },
     "execution_count": 105,
     "metadata": {},
     "output_type": "execute_result"
    }
   ],
   "source": [
    "nouvelle_formation"
   ]
  },
  {
   "cell_type": "code",
   "execution_count": 106,
   "id": "e078035f",
   "metadata": {},
   "outputs": [
    {
     "data": {
      "text/plain": [
       "True"
      ]
     },
     "execution_count": 106,
     "metadata": {},
     "output_type": "execute_result"
    }
   ],
   "source": [
    "'durée' in nouvelle_formation "
   ]
  },
  {
   "cell_type": "code",
   "execution_count": 107,
   "id": "3b5d1bd1",
   "metadata": {},
   "outputs": [],
   "source": [
    "G = {'âge' : 22, 'statut': 'étudiant', 'Année' : 2023}\n",
    "E = dict()"
   ]
  },
  {
   "cell_type": "code",
   "execution_count": 108,
   "id": "85791111",
   "metadata": {},
   "outputs": [
    {
     "data": {
      "text/plain": [
       "{'âge': 22, 'statut': 'étudiant', 'Année': 2023}"
      ]
     },
     "execution_count": 108,
     "metadata": {},
     "output_type": "execute_result"
    }
   ],
   "source": [
    "G"
   ]
  },
  {
   "cell_type": "code",
   "execution_count": 109,
   "id": "8e584233",
   "metadata": {},
   "outputs": [],
   "source": [
    " E['âge'] = 33\n",
    "E['statut'] = 'ingenieur'\n",
    "E['Année'] = 2030"
   ]
  },
  {
   "cell_type": "code",
   "execution_count": 110,
   "id": "060a39f2",
   "metadata": {},
   "outputs": [
    {
     "data": {
      "text/plain": [
       "{'âge': 33, 'statut': 'ingenieur', 'Année': 2030}"
      ]
     },
     "execution_count": 110,
     "metadata": {},
     "output_type": "execute_result"
    }
   ],
   "source": [
    "E"
   ]
  },
  {
   "cell_type": "code",
   "execution_count": 112,
   "id": "30334492",
   "metadata": {},
   "outputs": [
    {
     "data": {
      "text/plain": [
       "{'inventory code': (1, 2, 3)}"
      ]
     },
     "execution_count": 112,
     "metadata": {},
     "output_type": "execute_result"
    }
   ],
   "source": [
    "di = dict()\n",
    "di['inventory code'] = (1,2,3)\n",
    "di"
   ]
  },
  {
   "cell_type": "code",
   "execution_count": 121,
   "id": "5b2c4762",
   "metadata": {},
   "outputs": [
    {
     "data": {
      "text/plain": [
       "{'nom_de_formation': 'Qualité',\n",
       " 'Normes_imporatantes': ['iso9001', 'iso14001', 'iso9004'],\n",
       " 'durée': '3 mois',\n",
       " 'âge': 33,\n",
       " 'statut': 'ingenieur',\n",
       " 'Année': 2030}"
      ]
     },
     "execution_count": 121,
     "metadata": {},
     "output_type": "execute_result"
    }
   ],
   "source": [
    "do = {**nouvelle_formation,**E} #fusionner pls dictionnaire \n",
    "do"
   ]
  },
  {
   "cell_type": "code",
   "execution_count": 139,
   "id": "194bc000",
   "metadata": {},
   "outputs": [
    {
     "data": {
      "text/plain": [
       "{'name': 'ali', 'age': 18, 'adress': 'rabat'}"
      ]
     },
     "execution_count": 139,
     "metadata": {},
     "output_type": "execute_result"
    }
   ],
   "source": [
    "ali = dict(name = 'ali', age = 18 , adress = 'rabat') #Création d'un dictionnaire à l'aide d'arguments de mots clés\n",
    "ali"
   ]
  },
  {
   "cell_type": "code",
   "execution_count": 155,
   "id": "c716d3a7",
   "metadata": {},
   "outputs": [
    {
     "data": {
      "text/plain": [
       "{'name': 'ghita', 'age': 23, 'adress': 'casablanca'}"
      ]
     },
     "execution_count": 155,
     "metadata": {},
     "output_type": "execute_result"
    }
   ],
   "source": [
    "ghita = dict([('name','ghita'), ('age',23)], adress = 'casablanca' )#Créer un dictionnaire à l'aide d'itérables (listes)\n",
    "ghita "
   ]
  },
  {
   "cell_type": "code",
   "execution_count": 240,
   "id": "683b0e9a",
   "metadata": {},
   "outputs": [
    {
     "name": "stdout",
     "output_type": "stream",
     "text": [
      "After change in shallow copy, main_dict: {'red': 10, 'yellow': 2, 'green': 3}\n"
     ]
    }
   ],
   "source": [
    "main_dict = {'red': 1, 'yellow': 2, 'green': 3}\n",
    "\n",
    "dict_deep = dict(main_dict)\n",
    "\n",
    "dict_shallow = main_dict\n",
    "\n",
    "dict_shallow['red'] = 10\n",
    "\n",
    "print(\"After change in shallow copy, main_dict:\", main_dict) # print(\"After change in shallow copy, main dict:\", main_dict)"
   ]
  },
  {
   "cell_type": "code",
   "execution_count": 160,
   "id": "37def399",
   "metadata": {},
   "outputs": [
    {
     "name": "stdout",
     "output_type": "stream",
     "text": [
      "After change in deep copy, main dict:  {'red': 10, 'yellow': 2, 'green': 3}\n"
     ]
    }
   ],
   "source": [
    "dict_deep['yellow'] = 20\n",
    "\n",
    "print(\"After change in deep copy, main dict: \", main_dict) ## la modification de la valeur en copie profonde n'affectera pas #La première version main dict"
   ]
  },
  {
   "cell_type": "code",
   "execution_count": 161,
   "id": "50c1624b",
   "metadata": {},
   "outputs": [
    {
     "name": "stdout",
     "output_type": "stream",
     "text": [
      "D = {}\n",
      "D = {'one': 'uno'}\n",
      "N['food'] =  Spam\n",
      "{'food': 'Spam', 'quantity': 5, 'color': 'pink'}\n"
     ]
    }
   ],
   "source": [
    "D= dict() # créer un dictionnaire\n",
    "\n",
    "print('D =',D) # représente un dictionnaire vide\n",
    "\n",
    "D ['one'] = 'uno' #Cette ligne crée un élément qui mappe de la clé 'un' à la valeur 'uno'\n",
    "\n",
    "print('D =', D) # D présente une paire clé-valeur avec deux-points entre la clé et la valeur\n",
    "\n",
    "N = {\"food\" : \"Spam\", 'quantity': 4, 'color': 'pink' } # créer un nouveau dictinnaire\n",
    "\n",
    "print('N[\\'food\\'] = ',N['food']) # Récupérer la valeur de la clé 'nourriture'\n",
    "\n",
    "N['quantity'] += 1 # # Ajouter 1 à la valeur 'quantité'\n",
    "\n",
    "print(N)\n",
    "\n"
   ]
  },
  {
   "cell_type": "code",
   "execution_count": 190,
   "id": "fca1b99f",
   "metadata": {},
   "outputs": [
    {
     "name": "stdout",
     "output_type": "stream",
     "text": [
      "d_ex_m1 = {'âge': 22, 'statut': 'étudiant', 'Année': 2023}\n",
      "\n",
      "d_ex_m2 = {'âge': 22, 'statut': 'étudiant', 'Année': 2023}\n",
      "\n",
      "d_ex_m3 = {'âge': 22, 'statut': 'étudiant', 'Année': 2023}\n",
      "\n",
      "d_ex_m4 = {'âge': 22, 'statut': 'étudiant', 'Année': 2023}\n"
     ]
    }
   ],
   "source": [
    "d_ex_m1= dict(âge = 22, statut = 'étudiant', Année = 2023)\n",
    "print('d_ex_m1 =',d_ex_m1)\n",
    "\n",
    "d_ex_m2 = {'âge' : 22, 'statut':'étudiant', 'Année' : 2023}\n",
    "print('\\nd_ex_m2 =',d_ex_m2)\n",
    "\n",
    "d_ex_m3 = dict((('âge',22),('statut','étudiant')), Année = 2023)\n",
    "print('\\nd_ex_m3 =',d_ex_m3)\n",
    "\n",
    "d_ex_m4 = dict((('âge',22),('statut','étudiant'),('Année',2023)))\n",
    "print('\\nd_ex_m4 =',d_ex_m4)"
   ]
  },
  {
   "cell_type": "code",
   "execution_count": 215,
   "id": "67350405",
   "metadata": {},
   "outputs": [
    {
     "name": "stdout",
     "output_type": "stream",
     "text": [
      "{'first': 'Ali', 'last': 'Bennani'}\n",
      "Bennani\n",
      "['student', 'developper']\n",
      "developper\n"
     ]
    },
    {
     "data": {
      "text/plain": [
       "{'name': {'first': 'Ali', 'last': 'Bennani'},\n",
       " 'job': ['student', 'developper', 'musician'],\n",
       " 'age': 22}"
      ]
     },
     "execution_count": 215,
     "metadata": {},
     "output_type": "execute_result"
    }
   ],
   "source": [
    "dataset = {'name' : { 'first' : 'Ali','last' : 'Bennani'}, 'job' : ['student','developper'], 'age' :  22}\n",
    "print(dataset['name'])\n",
    "print(dataset['name']['last'])\n",
    "print(dataset['job'])\n",
    "print(dataset['job'][1])\n",
    "dataset['job'].append('musician')\n",
    "dataset"
   ]
  },
  {
   "cell_type": "code",
   "execution_count": 281,
   "id": "47ebbd19",
   "metadata": {},
   "outputs": [
    {
     "data": {
      "text/plain": [
       "dict_values(['101', '5 KG', '5 boites'])"
      ]
     },
     "execution_count": 281,
     "metadata": {},
     "output_type": "execute_result"
    }
   ],
   "source": [
    "mon_dict = {'lait': '101', 'pates': '5 KG', 'Thon': '5 boites'}\n",
    "mon_dict.values() #• values() - Pour obtenir la liste des valeurs d'un dictionnaire."
   ]
  },
  {
   "cell_type": "code",
   "execution_count": 282,
   "id": "e658ea65",
   "metadata": {},
   "outputs": [
    {
     "data": {
      "text/plain": [
       "dict_keys(['lait', 'pates', 'Thon'])"
      ]
     },
     "execution_count": 282,
     "metadata": {},
     "output_type": "execute_result"
    }
   ],
   "source": [
    "mon_dict.keys()   #• keys() - Pour obtenir la liste des clés d'un dictionnaire."
   ]
  },
  {
   "cell_type": "code",
   "execution_count": 283,
   "id": "8febf52a",
   "metadata": {},
   "outputs": [
    {
     "data": {
      "text/plain": [
       "dict_items([('lait', '101'), ('pates', '5 KG'), ('Thon', '5 boites')])"
      ]
     },
     "execution_count": 283,
     "metadata": {},
     "output_type": "execute_result"
    }
   ],
   "source": [
    "mon_dict.items()  #• items() - Pour obtenir la liste des paires (clé, valeur) d'un dictionnaire."
   ]
  },
  {
   "cell_type": "code",
   "execution_count": 284,
   "id": "8d0e157a",
   "metadata": {},
   "outputs": [
    {
     "data": {
      "text/plain": [
       "{'pates': '5 KG', 'Thon': '5 boites'}"
      ]
     },
     "execution_count": 284,
     "metadata": {},
     "output_type": "execute_result"
    }
   ],
   "source": [
    "mon_dict.pop('lait') #• pop(key) - Pour supprimer un élément du dictionnaire.\n",
    "mon_dict"
   ]
  },
  {
   "cell_type": "code",
   "execution_count": 285,
   "id": "3c289ed2",
   "metadata": {},
   "outputs": [
    {
     "data": {
      "text/plain": [
       "{'pates': '5 KG', 'Thon': '5 boites'}"
      ]
     },
     "execution_count": 285,
     "metadata": {},
     "output_type": "execute_result"
    }
   ],
   "source": [
    "new_dict = mon_dict.copy()  #• copy() - Pour copier le dictionnaire (comme pour les listes).\n",
    "new_dict"
   ]
  },
  {
   "cell_type": "code",
   "execution_count": 286,
   "id": "01f0ca14",
   "metadata": {},
   "outputs": [
    {
     "name": "stdout",
     "output_type": "stream",
     "text": [
      "{('Thon', 'Thon'), ('pates', 'pates')}\n"
     ]
    }
   ],
   "source": [
    "zipped = zip(new_dict,mon_dict) #• zip(iterable1, iterable2, …) - Pour combiner deux données en un dictionnaire.\n",
    "print(set(zipped))"
   ]
  },
  {
   "cell_type": "code",
   "execution_count": 287,
   "id": "5de379f8",
   "metadata": {},
   "outputs": [
    {
     "data": {
      "text/plain": [
       "'5 KG'"
      ]
     },
     "execution_count": 287,
     "metadata": {},
     "output_type": "execute_result"
    }
   ],
   "source": [
    "new_dict.get('pates')   #• get(key) -Renvoie la valeur de la clé spécifiée."
   ]
  },
  {
   "cell_type": "code",
   "execution_count": 288,
   "id": "7c82a3b9",
   "metadata": {},
   "outputs": [
    {
     "data": {
      "text/plain": [
       "{'marque': 'zara', 'taille': 'M', 'pates': '5 KG', 'Thon': '5 boites'}"
      ]
     },
     "execution_count": 288,
     "metadata": {},
     "output_type": "execute_result"
    }
   ],
   "source": [
    "d3 = { 'marque': 'zara','taille':'M',}\n",
    "d3.update(new_dict)  #• update() - Met à jour le dictionnaire avec les paires clé-valeur spécifiées\n",
    "d3"
   ]
  },
  {
   "cell_type": "code",
   "execution_count": 289,
   "id": "b3a027c8",
   "metadata": {},
   "outputs": [
    {
     "data": {
      "text/plain": [
       "{'marque': 'zara', 'taille': 'M', 'pates': '5 KG'}"
      ]
     },
     "execution_count": 289,
     "metadata": {},
     "output_type": "execute_result"
    }
   ],
   "source": [
    "d3.popitem()    #• popitem() Supprime la dernière paire clé-valeur insérée\n",
    "d3              # le couple ('Thon': '5 boites') sera supprimé"
   ]
  },
  {
   "cell_type": "code",
   "execution_count": 290,
   "id": "5a455788",
   "metadata": {},
   "outputs": [
    {
     "data": {
      "text/plain": [
       "['marque', 'pates', 'taille']"
      ]
     },
     "execution_count": 290,
     "metadata": {},
     "output_type": "execute_result"
    }
   ],
   "source": [
    "sorted(d3)      # •Sorted()- La méthode sorted() trie les données itérables telles que les listes\n",
    "                # ,les tuples et les dictionnaires. Mais elle trie uniquement par clé.\n",
    "                #  Mais elle trie uniquement par clé. \n",
    "                #  La méthode sorted() place les éléments triés dans une liste."
   ]
  },
  {
   "cell_type": "code",
   "execution_count": 294,
   "id": "ff9e41cd",
   "metadata": {},
   "outputs": [
    {
     "data": {
      "text/plain": [
       "{'name': 'kamal', 'nom': 'kamal', 'isme': 'kamal'}"
      ]
     },
     "execution_count": 294,
     "metadata": {},
     "output_type": "execute_result"
    }
   ],
   "source": [
    "d4 = dict()\n",
    "\n",
    "d4.fromkeys( ( ('name'),('nom'),('isme') ),'kamal' )     #• Fromkeys()- crée un dictionnaire \n",
    "                                                        #à partir de la séquence donnée de clés et de valeurs. \n",
    "                                                        #Syntax: dict.fromkeys(keys, values)             "
   ]
  },
  {
   "cell_type": "code",
   "execution_count": 305,
   "id": "277c464e",
   "metadata": {},
   "outputs": [
    {
     "data": {
      "text/plain": [
       "{'marque', 'pates', 'taille'}"
      ]
     },
     "execution_count": 305,
     "metadata": {},
     "output_type": "execute_result"
    }
   ],
   "source": [
    "set(d3.keys()) "
   ]
  },
  {
   "cell_type": "code",
   "execution_count": 302,
   "id": "4c2b76ff",
   "metadata": {},
   "outputs": [
    {
     "data": {
      "text/plain": [
       "('zara', 'M', '5 KG')"
      ]
     },
     "execution_count": 302,
     "metadata": {},
     "output_type": "execute_result"
    }
   ],
   "source": [
    "tuple(d3.values())"
   ]
  },
  {
   "cell_type": "code",
   "execution_count": 309,
   "id": "4e57be14",
   "metadata": {},
   "outputs": [
    {
     "data": {
      "text/plain": [
       "True"
      ]
     },
     "execution_count": 309,
     "metadata": {},
     "output_type": "execute_result"
    }
   ],
   "source": [
    "d3 != mon_dict"
   ]
  },
  {
   "cell_type": "code",
   "execution_count": 310,
   "id": "ef97a23d",
   "metadata": {},
   "outputs": [
    {
     "data": {
      "text/plain": [
       "False"
      ]
     },
     "execution_count": 310,
     "metadata": {},
     "output_type": "execute_result"
    }
   ],
   "source": [
    "d3 == mon_dict"
   ]
  },
  {
   "cell_type": "code",
   "execution_count": 324,
   "id": "b9572da9",
   "metadata": {},
   "outputs": [
    {
     "name": "stdout",
     "output_type": "stream",
     "text": [
      "moyennes =  {'Ali': 15.333333333333334, 'Ghita': 17.833333333333332, 'Nour': 15.0, 'Ahmed': 15.0}\n"
     ]
    }
   ],
   "source": [
    "notes_des_étudiants = {'Ali': [15, 12, 19], 'Ghita': [20, 17, 16.5], 'Nour': [14, 15, 16], 'Ahmed': [9, 19, 17] } \n",
    "\n",
    "moyennes = { k : sum(v)/len(v) for k, v in notes_des_étudiants.items()}\n",
    "\n",
    "print('moyennes = ',moyennes)"
   ]
  },
  {
   "cell_type": "code",
   "execution_count": 371,
   "id": "058b1585",
   "metadata": {},
   "outputs": [
    {
     "name": "stdout",
     "output_type": "stream",
     "text": [
      "{'ordinateur': 10, 'Table': 20, 'stylo': 30, 'Tableau': 4, 'chaise': [6, 1, 5], 'rideau': 7}\n"
     ]
    }
   ],
   "source": [
    "dict1 = {'ordinateur': 10, 'Table': 20, 'stylo': 30} \n",
    "dict2 = {'Tableau': 4, 'chaise': [6, 1, 5], 'rideau': 7}\n",
    "dictmerged= dict(**dict1,**dict2)\n",
    "print(dictmerged)"
   ]
  },
  {
   "cell_type": "code",
   "execution_count": 372,
   "id": "e614dec6",
   "metadata": {},
   "outputs": [
    {
     "data": {
      "text/plain": [
       "30"
      ]
     },
     "execution_count": 372,
     "metadata": {},
     "output_type": "execute_result"
    }
   ],
   "source": [
    "dictmerged.pop('stylo')\n"
   ]
  },
  {
   "cell_type": "code",
   "execution_count": 373,
   "id": "169ff463",
   "metadata": {},
   "outputs": [
    {
     "data": {
      "text/plain": [
       "4"
      ]
     },
     "execution_count": 373,
     "metadata": {},
     "output_type": "execute_result"
    }
   ],
   "source": [
    "dictmerged.pop('Tableau')"
   ]
  },
  {
   "cell_type": "code",
   "execution_count": 374,
   "id": "5b9ffb17",
   "metadata": {},
   "outputs": [
    {
     "data": {
      "text/plain": [
       "True"
      ]
     },
     "execution_count": 374,
     "metadata": {},
     "output_type": "execute_result"
    }
   ],
   "source": [
    "'chaise' in dictmerged"
   ]
  },
  {
   "cell_type": "code",
   "execution_count": 375,
   "id": "8f0ab5e3",
   "metadata": {},
   "outputs": [
    {
     "data": {
      "text/plain": [
       "{'ordinateur': 10, 'Table': 20, 'rideau': 7, 'bureau': [6, 1, 5]}"
      ]
     },
     "execution_count": 375,
     "metadata": {},
     "output_type": "execute_result"
    }
   ],
   "source": [
    "dictmerged['bureau'] = dictmerged.pop('chaise') # remplacer la cle'chaise' par 'bureau'\n",
    "dictmerged"
   ]
  },
  {
   "cell_type": "code",
   "execution_count": 377,
   "id": "6b5d8de9",
   "metadata": {},
   "outputs": [
    {
     "data": {
      "text/plain": [
       "['ordinateur', 'Table', 'rideau', 'bureau']"
      ]
     },
     "execution_count": 377,
     "metadata": {},
     "output_type": "execute_result"
    }
   ],
   "source": [
    "materiaux = list(dictmerged.keys())\n",
    "materiaux"
   ]
  },
  {
   "cell_type": "code",
   "execution_count": 378,
   "id": "28bdd151",
   "metadata": {},
   "outputs": [
    {
     "data": {
      "text/plain": [
       "[10, 20, 7, [6, 1, 5]]"
      ]
     },
     "execution_count": 378,
     "metadata": {},
     "output_type": "execute_result"
    }
   ],
   "source": [
    "quantité = list(dictmerged.values())\n",
    "quantité"
   ]
  },
  {
   "cell_type": "code",
   "execution_count": 380,
   "id": "58488b2c",
   "metadata": {},
   "outputs": [
    {
     "data": {
      "text/plain": [
       "{'ordinateur': 10, 'Table': 20, 'rideau': 7, 'bureau': [6, 1, 5]}"
      ]
     },
     "execution_count": 380,
     "metadata": {},
     "output_type": "execute_result"
    }
   ],
   "source": [
    "dictT1 = {k : v for k, v in dictmerged.items()}\n",
    "dictT1"
   ]
  },
  {
   "cell_type": "code",
   "execution_count": 383,
   "id": "a2a34883",
   "metadata": {},
   "outputs": [
    {
     "data": {
      "text/plain": [
       "{'ordinateur': [10, 20, 7, [6, 1, 5]],\n",
       " 'Table': [10, 20, 7, [6, 1, 5]],\n",
       " 'rideau': [10, 20, 7, [6, 1, 5]],\n",
       " 'bureau': [10, 20, 7, [6, 1, 5]]}"
      ]
     },
     "execution_count": 383,
     "metadata": {},
     "output_type": "execute_result"
    }
   ],
   "source": [
    "dictT2 = dictmerged.fromkeys(materiaux,quantité)\n",
    "dictT2"
   ]
  },
  {
   "cell_type": "code",
   "execution_count": 397,
   "id": "a63a3a40",
   "metadata": {},
   "outputs": [
    {
     "name": "stdout",
     "output_type": "stream",
     "text": [
      "[1, 1, 2, 3, 3, 4, 5, 5, 5, 6, 9]\n"
     ]
    }
   ],
   "source": [
    "nombres = [3, 1, 4, 1, 5, 9, 2, 6, 5, 3, 5]\n",
    "nombres.sort()\n",
    "print(nombres)"
   ]
  },
  {
   "cell_type": "code",
   "execution_count": 399,
   "id": "72091e30",
   "metadata": {},
   "outputs": [
    {
     "name": "stdout",
     "output_type": "stream",
     "text": [
      "[1, 1, 2, 3, 3, 4, 5, 5, 5, 6, 9]\n",
      "[3, 1, 4, 1, 5, 9, 2, 6, 5, 3, 5]\n"
     ]
    }
   ],
   "source": [
    "numbers = [3, 1, 4, 1, 5, 9, 2, 6, 5, 3, 5]\n",
    "sorted_numbers = sorted(numbers)\n",
    "print (sorted_numbers) \n",
    "print(numbers)"
   ]
  },
  {
   "cell_type": "code",
   "execution_count": 431,
   "id": "0b14974f",
   "metadata": {},
   "outputs": [
    {
     "name": "stdout",
     "output_type": "stream",
     "text": [
      "78\n",
      "110\n"
     ]
    },
    {
     "data": {
      "text/plain": [
       "True"
      ]
     },
     "execution_count": 431,
     "metadata": {},
     "output_type": "execute_result"
    }
   ],
   "source": [
    "print(ord('N'))\n",
    "print(ord('n'))\n",
    "'new' > 'NEW'"
   ]
  },
  {
   "cell_type": "code",
   "execution_count": 437,
   "id": "1c2a08e6",
   "metadata": {},
   "outputs": [
    {
     "name": "stdout",
     "output_type": "stream",
     "text": [
      "Les 'clés' ordonnées du dictionnaires selon la longueur du clés :  ['fer', 'bois', 'aluminium']\n"
     ]
    }
   ],
   "source": [
    "dictionnaire = {'bois': 2, 'fer': 1, 'aluminium': 3}\n",
    "\n",
    "print(\"Les 'clés' ordonnées du dictionnaires selon la longueur du clés : \", sorted(dictionnaire.keys(),key = len))"
   ]
  },
  {
   "cell_type": "code",
   "execution_count": 11,
   "id": "58727dd6",
   "metadata": {},
   "outputs": [
    {
     "name": "stdout",
     "output_type": "stream",
     "text": [
      "what's your name :\n",
      "kamal dehbi \n"
     ]
    }
   ],
   "source": [
    "name = str(input(\"what's your name :\\n\"))"
   ]
  },
  {
   "cell_type": "code",
   "execution_count": 42,
   "id": "41c52b82",
   "metadata": {},
   "outputs": [
    {
     "name": "stdout",
     "output_type": "stream",
     "text": [
      "11\n",
      "12\n",
      "13\n",
      "14\n"
     ]
    }
   ],
   "source": [
    "a = 10 \n",
    "b = 14 \n",
    "while a < b :\n",
    "    a+=1\n",
    "    print(a)\n",
    "    "
   ]
  },
  {
   "cell_type": "code",
   "execution_count": 43,
   "id": "c065642c",
   "metadata": {},
   "outputs": [
    {
     "name": "stdout",
     "output_type": "stream",
     "text": [
      "3\n",
      "33\n",
      "363\n",
      "3993\n",
      "43923\n"
     ]
    }
   ],
   "source": [
    "c = 3\n",
    "for i in range(0,5,1):\n",
    "    print(c)\n",
    "    c*=11"
   ]
  },
  {
   "cell_type": "code",
   "execution_count": 45,
   "id": "65fb1d08",
   "metadata": {},
   "outputs": [
    {
     "name": "stdout",
     "output_type": "stream",
     "text": [
      "Entrer votre nom : omar\n",
      "Votre nom est dans cette classe.\n"
     ]
    }
   ],
   "source": [
    "a = ['ahmed', 'omar', 'ghita', 'ines']\n",
    "\n",
    "b = input('Entrer votre nom : ')\n",
    "\n",
    "if b in a :\n",
    "    print('Votre nom est dans cette classe.')\n",
    "\n",
    "else :\n",
    "    print('Votre nom n\\'est pas dans cette classe.')"
   ]
  },
  {
   "cell_type": "code",
   "execution_count": 47,
   "id": "ad382c93",
   "metadata": {},
   "outputs": [
    {
     "name": "stdout",
     "output_type": "stream",
     "text": [
      "P_Y_T_H_O_N_"
     ]
    }
   ],
   "source": [
    "for i in 'python':\n",
    "    print(i.upper(),end ='_')\n"
   ]
  },
  {
   "cell_type": "code",
   "execution_count": 41,
   "id": "004980ec",
   "metadata": {},
   "outputs": [
    {
     "name": "stdout",
     "output_type": "stream",
     "text": [
      "rouge noir blanc\n",
      "\n",
      "\n",
      "Python\n",
      "\n",
      "\n",
      "ROUGE\n",
      "NOIR\n",
      "BLANC\n",
      "P\n",
      "Y\n",
      "T\n",
      "H\n",
      "O\n",
      "N\n"
     ]
    }
   ],
   "source": [
    "H = ['rouge','noir','blanc']\n",
    "\n",
    "K = 'Python'\n",
    "\n",
    "print(' '.join(H))\n",
    "\n",
    "print('\\n')\n",
    "\n",
    "print(''.join(K))\n",
    "\n",
    "print('\\n')\n",
    "\n",
    "for i in H:\n",
    "    print(i.upper())\n",
    "\n",
    "for i in K:\n",
    "    print(i.upper())"
   ]
  },
  {
   "cell_type": "code",
   "execution_count": 57,
   "id": "1458a48f",
   "metadata": {},
   "outputs": [
    {
     "name": "stdout",
     "output_type": "stream",
     "text": [
      "entrer un nbr : 3\n",
      "3\n",
      "9\n",
      "27\n"
     ]
    }
   ],
   "source": [
    "lm = int(input('entrer un nbr : '))\n",
    "while lm <= 50:\n",
    "    print(lm)\n",
    "    lm*=3"
   ]
  },
  {
   "cell_type": "code",
   "execution_count": 62,
   "id": "ac212dff",
   "metadata": {},
   "outputs": [
    {
     "data": {
      "text/plain": [
       "25.3"
      ]
     },
     "execution_count": 62,
     "metadata": {},
     "output_type": "execute_result"
    }
   ],
   "source": [
    "lp = [12, 8, -4, 9.3, 0]\n",
    "summ = 0\n",
    "for i in lp:\n",
    "    summ += i\n",
    "summ"
   ]
  },
  {
   "cell_type": "code",
   "execution_count": 63,
   "id": "8cd6d2a1",
   "metadata": {},
   "outputs": [
    {
     "name": "stdout",
     "output_type": "stream",
     "text": [
      "(1, 2)\n",
      "(3, 4)\n",
      "(5, 6)\n"
     ]
    }
   ],
   "source": [
    "b= [(1, 2), (3, 4), (5, 6)]\n",
    "for i in b :\n",
    "    print(i)"
   ]
  },
  {
   "cell_type": "code",
   "execution_count": 76,
   "id": "af821c13",
   "metadata": {},
   "outputs": [
    {
     "name": "stdout",
     "output_type": "stream",
     "text": [
      "a => 1\n",
      "b => 2\n",
      "c => 3\n"
     ]
    }
   ],
   "source": [
    "D = {'a': 1, 'b': 2, 'c': 3}\n",
    "\n",
    "for i,j in D.items(): \n",
    "    print(i,'=>',j)"
   ]
  },
  {
   "cell_type": "code",
   "execution_count": 2,
   "id": "0194a464",
   "metadata": {},
   "outputs": [
    {
     "name": "stdout",
     "output_type": "stream",
     "text": [
      "6 * 1 = 6\n",
      "6 * 2 = 12\n",
      "6 * 3 = 18\n",
      "6 * 4 = 24\n",
      "6 * 5 = 30\n"
     ]
    }
   ],
   "source": [
    "za = 1\n",
    "while za <= 10: \n",
    "    print('6 *',za,'=',6*za)\n",
    "    if za >= 5 :\n",
    "        break\n",
    "    za = za + 1"
   ]
  },
  {
   "cell_type": "code",
   "execution_count": 13,
   "id": "94a4750d",
   "metadata": {},
   "outputs": [
    {
     "name": "stdout",
     "output_type": "stream",
     "text": [
      "[0, 1, 2, 3, 4, 5, 6, 8, 9]\n"
     ]
    }
   ],
   "source": [
    "My_list = list()\n",
    "for i in range(10):\n",
    "    if i == 7:\n",
    "        continue # continue permet de passer la partie d’une boucle\n",
    "    else :\n",
    "        My_list.append(i)\n",
    "print(My_list)\n",
    "        "
   ]
  },
  {
   "cell_type": "code",
   "execution_count": 16,
   "id": "c4b64a37",
   "metadata": {},
   "outputs": [
    {
     "name": "stdout",
     "output_type": "stream",
     "text": [
      "[0, 1, 2, 3, 4, 5, 6]\n"
     ]
    }
   ],
   "source": [
    "my_list = list()\n",
    "\n",
    "for i in range(10):\n",
    "    if i == 7:\n",
    "        break   # break permet de quitter immédiatement une boucle\n",
    "    else:\n",
    "        my_list.append(i)\n",
    "\n",
    "print(my_list)\n"
   ]
  },
  {
   "cell_type": "code",
   "execution_count": 1,
   "id": "73ea0219",
   "metadata": {},
   "outputs": [
    {
     "name": "stdout",
     "output_type": "stream",
     "text": [
      "1\n",
      "3\n",
      "5\n",
      "7\n",
      "9\n"
     ]
    }
   ],
   "source": [
    "nt = 0 \n",
    "while nt < 10 :\n",
    "    nt += 1\n",
    "    if (nt % 2) == 0 : #  or == pour nbr impaire\n",
    "        continue\n",
    "    print(nt)"
   ]
  },
  {
   "cell_type": "code",
   "execution_count": 24,
   "id": "d740df93",
   "metadata": {},
   "outputs": [
    {
     "name": "stdout",
     "output_type": "stream",
     "text": [
      "(4, 5) element trouvé\n",
      "3.14 element non trouvé\n"
     ]
    }
   ],
   "source": [
    "x= [\"aaa\", 111, (4, 5), 2.01] \n",
    "\n",
    "y = [(4, 5), 3.14] \n",
    "\n",
    "for i in y :\n",
    "    for j in x :\n",
    "        if i == j :\n",
    "            print(i,'element trouvé')\n",
    "            break\n",
    "    else :\n",
    "        print(i,'element non trouvé')"
   ]
  },
  {
   "cell_type": "code",
   "execution_count": 35,
   "id": "f64611a8",
   "metadata": {},
   "outputs": [
    {
     "name": "stdout",
     "output_type": "stream",
     "text": [
      "2 est premier\n",
      "3 est premier\n",
      "4 n'est pas premier et ses diviseurs sont :  [1, 2]\n",
      "5 est premier\n",
      "6 n'est pas premier et ses diviseurs sont :  [1, 2, 3]\n",
      "7 est premier\n",
      "8 n'est pas premier et ses diviseurs sont :  [1, 2, 4]\n",
      "9 n'est pas premier et ses diviseurs sont :  [1, 3]\n",
      "10 n'est pas premier et ses diviseurs sont :  [1, 2, 5]\n",
      "11 est premier\n",
      "12 n'est pas premier et ses diviseurs sont :  [1, 2, 3, 4, 6]\n",
      "13 est premier\n",
      "14 n'est pas premier et ses diviseurs sont :  [1, 2, 7]\n",
      "15 n'est pas premier et ses diviseurs sont :  [1, 3, 5]\n",
      "16 n'est pas premier et ses diviseurs sont :  [1, 2, 4, 8]\n",
      "17 est premier\n",
      "18 n'est pas premier et ses diviseurs sont :  [1, 2, 3, 6, 9]\n",
      "19 est premier\n",
      "20 n'est pas premier et ses diviseurs sont :  [1, 2, 4, 5, 10]\n"
     ]
    }
   ],
   "source": [
    "a = 1\n",
    "t=[]\n",
    "b = [1]\n",
    "while a < 20 :\n",
    "    a+=1\n",
    "    for i in range(1,a):\n",
    "        if a%i==0:\n",
    "            t.append(i)\n",
    "    if t!=b:\n",
    "        print (a, \"n'est pas premier et ses diviseurs sont : \",t)\n",
    "    else:\n",
    "        print (a, 'est premier')\n",
    "    t=[]"
   ]
  },
  {
   "cell_type": "code",
   "execution_count": 8,
   "id": "2edd4184",
   "metadata": {},
   "outputs": [
    {
     "name": "stdout",
     "output_type": "stream",
     "text": [
      "Vous avez que 4 essais !\n",
      "Entrer votre mot de passe : 14594\n",
      "Accés refusé !\n",
      "Entrer votre mot de passe : 2557\n",
      "Accés refusé !\n",
      "Entrer votre mot de passe : 11452\n",
      "Accés refusé !\n",
      "Ressayer plutard !\n"
     ]
    }
   ],
   "source": [
    "n = 0\n",
    "mdp = \"\"\n",
    "print('Vous avez que 4 essais !')\n",
    "while (mdp != '1234') & (n < 3):\n",
    "    mdp = input('Entrer votre mot de passe : ')\n",
    "    if mdp == '1234':\n",
    "        print('Accès accordé !')\n",
    "        break\n",
    "    elif mdp != '1234':\n",
    "        print('Accés refusé !')\n",
    "        n += 1\n",
    "if(n == 3):\n",
    "    print('Ressayer plutard !')"
   ]
  },
  {
   "cell_type": "code",
   "execution_count": 11,
   "id": "36ab75d6",
   "metadata": {},
   "outputs": [
    {
     "name": "stdout",
     "output_type": "stream",
     "text": [
      "b 8\n"
     ]
    }
   ],
   "source": [
    "tlm = 8 \n",
    "if not tlm == 15 :\n",
    "    print('b',tlm)"
   ]
  },
  {
   "cell_type": "code",
   "execution_count": 20,
   "id": "bbb19166",
   "metadata": {},
   "outputs": [
    {
     "name": "stdout",
     "output_type": "stream",
     "text": [
      "Ali  ne peut pas voter\n",
      "Ghita  ne peut pas voter\n",
      "Sam peut voter\n",
      "Dina peut voter\n",
      "Lilya  ne peut pas voter\n"
     ]
    }
   ],
   "source": [
    "votes = [\n",
    "{\"nom\": \"Ali\",   \"age\": 68},\n",
    "{\"nom\": \"Ghita\", \"age\": 15},\n",
    "{\"nom\": \"Sam\",   \"age\": 32},\n",
    "{\"nom\": \"Dina\",  \"age\": 19}, \n",
    "{\"nom\": \"Lilya\", \"age\": 11}]\n",
    "for i in votes:\n",
    "    nom = i[\"nom\"]\n",
    "    age = i[\"age\"]\n",
    "    if (age > 16) & (age < 65) :\n",
    "        print(nom,'peut voter')\n",
    "    else :\n",
    "        print(nom,' ne peut pas voter')"
   ]
  },
  {
   "cell_type": "code",
   "execution_count": 32,
   "id": "28dfd7c8",
   "metadata": {},
   "outputs": [
    {
     "name": "stdout",
     "output_type": "stream",
     "text": [
      "Type of  {5: 'cinq', 6: 'six', 10: 'dix'}  =>  <class 'dict'>\n",
      "Type of  False  =>  <class 'bool'>\n",
      "Type of  1000  =>  <class 'int'>\n",
      "Type of  11.23  =>  <class 'float'>\n",
      "Type of  (1+2j)  =>  <class 'complex'>\n",
      "Type of  True  =>  <class 'bool'>\n",
      "Type of  helloPython  =>  <class 'str'>\n",
      "Type of  (0, -1)  =>  <class 'tuple'>\n",
      "Type of  [5, 12]  =>  <class 'list'>\n",
      "Type of  {' Ali ! ', ' GHITA '}  =>  <class 'set'>\n"
     ]
    }
   ],
   "source": [
    "tgg = [{5 :'cinq', 6 : 'six', 10 : 'dix'}, False, 1000, 11.23, 1+2j, True, 'hello'\n",
    "'Python', (0, -1), [5, 12], {\" Ali ! \", \" GHITA \" } ]\n",
    "for i in tgg:\n",
    "       print('Type of ',i,\" => \",type(i))"
   ]
  },
  {
   "cell_type": "code",
   "execution_count": 35,
   "id": "05b30a00",
   "metadata": {},
   "outputs": [
    {
     "data": {
      "text/plain": [
       "[10, 20, 30, 11, 22, 33]"
      ]
     },
     "execution_count": 35,
     "metadata": {},
     "output_type": "execute_result"
    }
   ],
   "source": [
    "ab = [10, 20, 30]\n",
    "ba = [11, 22, 33]\n",
    "c = ab + ba\n",
    "c"
   ]
  },
  {
   "cell_type": "code",
   "execution_count": 51,
   "id": "50314c3c",
   "metadata": {},
   "outputs": [
    {
     "name": "stdout",
     "output_type": "stream",
     "text": [
      "0 : 10\n",
      "1 : 20\n",
      "2 : 30\n",
      "3 : 11\n",
      "4 : 22\n",
      "5 : 33\n"
     ]
    }
   ],
   "source": [
    "for i in range(len(c)):\n",
    "    print(f'{i} : {c[i]}',end = '\\n')"
   ]
  },
  {
   "cell_type": "code",
   "execution_count": 54,
   "id": "4b67fa85",
   "metadata": {},
   "outputs": [
    {
     "data": {
      "text/plain": [
       "[(0, 10), (1, 20), (2, 30), (3, 11), (4, 22), (5, 33)]"
      ]
     },
     "execution_count": 54,
     "metadata": {},
     "output_type": "execute_result"
    }
   ],
   "source": [
    "list(enumerate(c))"
   ]
  },
  {
   "cell_type": "code",
   "execution_count": 83,
   "id": "da000a74",
   "metadata": {},
   "outputs": [
    {
     "name": "stdout",
     "output_type": "stream",
     "text": [
      "[(0, 2), (1, 6), (2, 15), (3, 19), (4, 8)] \n",
      "\n",
      "Creating a bar chart from numbers:\n",
      "Index   Value Bar\n",
      "    0       2 **\n",
      "    1       6 ******\n",
      "    2      15 ***************\n",
      "    3      19 *******************\n",
      "    4       8 ********\n"
     ]
    }
   ],
   "source": [
    "numb = (2, 6, 15, 19, 8)\n",
    "\n",
    "print(list(enumerate(numb)),'\\n')\n",
    "\n",
    "print('Creating a bar chart from numbers:') \n",
    "\n",
    "print(f'Index{\"Value\":>8} Bar')\n",
    "\n",
    "\n",
    "for index, value in enumerate(numb):\n",
    "    print(f'{index:>5}{value:>8} {\"*\" * value}')"
   ]
  },
  {
   "cell_type": "code",
   "execution_count": 4,
   "id": "83eccdaa",
   "metadata": {},
   "outputs": [
    {
     "name": "stdout",
     "output_type": "stream",
     "text": [
      "<class 'list'>\n",
      "Entrer un nom d'ami ou fin: kamal \n",
      "['kamal ']\n",
      "Entrer un nom d'ami ou fin: anas\n",
      "['anas', 'kamal ']\n",
      "Entrer un nom d'ami ou fin: omar\n",
      "['anas', 'kamal ', 'omar']\n",
      "Entrer un nom d'ami ou fin: ghita\n",
      "['anas', 'ghita', 'kamal ', 'omar']\n",
      "Entrer un nom d'ami ou fin: fin\n"
     ]
    }
   ],
   "source": [
    "amis = []\n",
    "\n",
    "print(type (amis))\n",
    "\n",
    "nom = input(\"Entrer un nom d'ami ou fin: \")\n",
    "while (nom  != \"fin\"):\n",
    "    amis.append(nom)\n",
    "    amis.sort()\n",
    "    print(amis)\n",
    "    nom = input(\"Entrer un nom d'ami ou fin: \")"
   ]
  },
  {
   "cell_type": "code",
   "execution_count": 16,
   "id": "73310d25",
   "metadata": {},
   "outputs": [
    {
     "name": "stdout",
     "output_type": "stream",
     "text": [
      "Entrer un nbr : 2582\n",
      "2582.00 est positif et sa racine = 50.81\n"
     ]
    }
   ],
   "source": [
    "import math \n",
    "k = float(input('Entrer un nbr : '))\n",
    "if k < 0 :\n",
    "    print('k est negatif.')\n",
    "elif k == 0 :\n",
    "    print(f'{k} est neutre et sa racine = 0')\n",
    "else :\n",
    "    L = math.sqrt(k)\n",
    "    print(f'{k:.2f} est positif et sa racine = {L:.2f}') #L:.2f arrondi 2 chiffres après la virgule "
   ]
  },
  {
   "cell_type": "code",
   "execution_count": 21,
   "id": "d9f218b3",
   "metadata": {},
   "outputs": [
    {
     "name": "stdout",
     "output_type": "stream",
     "text": [
      "welcom to the world\n"
     ]
    }
   ],
   "source": [
    "def welcome():\n",
    "    print('welcom to the world')\n",
    "welcome()"
   ]
  },
  {
   "cell_type": "code",
   "execution_count": 44,
   "id": "f6647a16",
   "metadata": {},
   "outputs": [],
   "source": [
    "def som(nm1,nm2):\n",
    "    \"\"\"document de la fonction\"\"\"\n",
    "    som = nm1 + nm2\n",
    "    print(f'la somme de \\'{nm1}\\' et \\'{nm2}\\' et égal a \\'{som}\\'')\n",
    "    #return som optionel dans ce cas "
   ]
  },
  {
   "cell_type": "code",
   "execution_count": 45,
   "id": "096a59b7",
   "metadata": {},
   "outputs": [
    {
     "name": "stdout",
     "output_type": "stream",
     "text": [
      "la somme de '9.663' et '-5' et égal a '4.663'\n"
     ]
    }
   ],
   "source": [
    "som(9.663,-5)"
   ]
  },
  {
   "cell_type": "code",
   "execution_count": 41,
   "id": "b9c34a62",
   "metadata": {},
   "outputs": [
    {
     "data": {
      "text/plain": [
       "75"
      ]
     },
     "execution_count": 41,
     "metadata": {},
     "output_type": "execute_result"
    }
   ],
   "source": [
    "def surface(L,l):\n",
    "    return L*l\n",
    "surface(15,5)"
   ]
  },
  {
   "cell_type": "code",
   "execution_count": 63,
   "id": "f105af5a",
   "metadata": {},
   "outputs": [],
   "source": [
    "def union(a,b):\n",
    "    return list(set(a) | set(b)) #same for intersection \n",
    "a = {1,3,5,9,7}\n",
    "b = {5,9,6,3,4}"
   ]
  },
  {
   "cell_type": "code",
   "execution_count": 64,
   "id": "5900e11a",
   "metadata": {},
   "outputs": [
    {
     "name": "stdout",
     "output_type": "stream",
     "text": [
      "[1, 3, 4, 5, 6, 7, 9]\n"
     ]
    }
   ],
   "source": [
    "print(union(a,b))"
   ]
  },
  {
   "cell_type": "code",
   "execution_count": 86,
   "id": "96fbcb82",
   "metadata": {},
   "outputs": [],
   "source": [
    "def reverse(chaine):\n",
    "    new_chaine = list(chaine) # new_chaine = chaine[::-1]\n",
    "    new_chaine.reverse() #return new_chaine\n",
    "    return print(\"\".join(new_chaine))"
   ]
  },
  {
   "cell_type": "code",
   "execution_count": 87,
   "id": "0ce22fd7",
   "metadata": {},
   "outputs": [
    {
     "name": "stdout",
     "output_type": "stream",
     "text": [
      "ibhed lamak\n"
     ]
    }
   ],
   "source": [
    "reverse('kamal dehbi')"
   ]
  },
  {
   "cell_type": "code",
   "execution_count": 92,
   "id": "0e514a73",
   "metadata": {},
   "outputs": [
    {
     "name": "stdout",
     "output_type": "stream",
     "text": [
      "Index 1: Ghita\n",
      "Index 2: Ali\n",
      "Index 3: Saas\n",
      "Index 4: Dina\n"
     ]
    }
   ],
   "source": [
    "def print_names(names):\n",
    "    for i, nom in enumerate(names, start=1):\n",
    "        print(f\"Index {i}: {nom}\")\n",
    "liste = [\"Ghita\", \"Ali\", \"Saas\", \"Dina\"] \n",
    "print_names(liste)"
   ]
  },
  {
   "cell_type": "code",
   "execution_count": 108,
   "id": "cf0dfd6b",
   "metadata": {},
   "outputs": [],
   "source": [
    "def count_unique_elements(l):\n",
    "    D = dict()\n",
    "    for i in range(0,len(l)):\n",
    "        D[l[i]] = l.count(l[i])\n",
    "    return D "
   ]
  },
  {
   "cell_type": "code",
   "execution_count": 109,
   "id": "a7cbc537",
   "metadata": {},
   "outputs": [
    {
     "name": "stdout",
     "output_type": "stream",
     "text": [
      "15\n"
     ]
    },
    {
     "data": {
      "text/plain": [
       "{1: 3, 2: 4, 3: 3, 4: 1, 5: 2, 8: 1, 0: 1}"
      ]
     },
     "execution_count": 109,
     "metadata": {},
     "output_type": "execute_result"
    }
   ],
   "source": [
    "l = [1,2,3,4,1,2,5,3,2,1,5,2,8,0,3]\n",
    "print(len(l))\n",
    "count_unique_elements(l)"
   ]
  },
  {
   "cell_type": "code",
   "execution_count": null,
   "id": "58bdebb4",
   "metadata": {},
   "outputs": [],
   "source": []
  }
 ],
 "metadata": {
  "kernelspec": {
   "display_name": "Python 3",
   "language": "python",
   "name": "python3"
  },
  "language_info": {
   "codemirror_mode": {
    "name": "ipython",
    "version": 3
   },
   "file_extension": ".py",
   "mimetype": "text/x-python",
   "name": "python",
   "nbconvert_exporter": "python",
   "pygments_lexer": "ipython3",
   "version": "3.8.8"
  }
 },
 "nbformat": 4,
 "nbformat_minor": 5
}
