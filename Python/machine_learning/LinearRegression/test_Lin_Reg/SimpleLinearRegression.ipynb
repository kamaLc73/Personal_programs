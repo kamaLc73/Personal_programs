{
  "cells": [
    {
      "cell_type": "code",
      "execution_count": 2,
      "metadata": {
        "id": "17gQTrNpD5gd"
      },
      "outputs": [],
      "source": [
        "import numpy as np\n",
        "import matplotlib.pyplot as plt\n",
        "import pandas as pd"
      ]
    },
    {
      "cell_type": "markdown",
      "metadata": {
        "id": "_VZmkIrFkyRR"
      },
      "source": [
        "\n",
        "\n",
        "# Régression linéaire Simple\n",
        "\n",
        "\n",
        "*   On va utiliser les calculs résultant de la méthode des moindres carrés pour trouver la valeur des paramétres dans le cas d'une regression linéaire simple sous la forme :\n",
        "\n",
        "$\\hat{y} = \\beta_1 \\hat{x} + \\beta_2$\n",
        "\n",
        "Avec :\n",
        "\n",
        "$\\beta_1 = \\frac{\\text{cov}(x, y)}{\\text{var}(x)}$\n",
        "\n",
        "$\\beta_2 = \\bar{y} - \\beta_1 \\bar{x}$\n",
        "\n"
      ]
    },
    {
      "cell_type": "code",
      "execution_count": 3,
      "metadata": {
        "id": "Dkxj8xCyBep2"
      },
      "outputs": [],
      "source": [
        "class simple_linear_regression :\n",
        "  def __init__(self):\n",
        "        self.coef = None\n",
        "\n",
        "  def coefficients(self):\n",
        "        return self.coef\n",
        "\n",
        "  def fitModel(self, X, Y):\n",
        "    # Extract the correlation coefficient between X and Y\n",
        "    correlation_matrix = np.corrcoef(X, Y)\n",
        "    self.coef = correlation_matrix[0, 1] * (np.std(Y) / np.std(X))\n",
        "\n",
        "  def predictModel(self, X,Y):\n",
        "    B1 = self.coef\n",
        "    B2 = np.mean(Y) - (np.mean(X) * B1)\n",
        "    Yfit = (np.array(X) * B1) + B2\n",
        "    return Yfit\n",
        "\n",
        "  def predictValue(self,value,X,Y):\n",
        "    B2 = np.mean(Y) - (np.mean(X) * self.coef)\n",
        "    return (value*self.coef) + B2\n",
        "\n",
        "  def __str__(self):\n",
        "        return f'Coefficient: {self.coef_}'"
      ]
    },
    {
      "cell_type": "markdown",
      "metadata": {
        "id": "JCMIt_lN5IEB"
      },
      "source": [
        "Lecture de données representant l'investissement en publicité sur plusieurs media : TV, Radio et finalement les jornaux et le retour sur investissement"
      ]
    },
    {
      "cell_type": "code",
      "execution_count": 4,
      "metadata": {
        "id": "q272GJdJGwCD"
      },
      "outputs": [
        {
          "ename": "FileNotFoundError",
          "evalue": "[Errno 2] No such file or directory: 'Advertising.csv'",
          "output_type": "error",
          "traceback": [
            "\u001b[1;31m---------------------------------------------------------------------------\u001b[0m",
            "\u001b[1;31mFileNotFoundError\u001b[0m                         Traceback (most recent call last)",
            "\u001b[1;32m<ipython-input-4-257ae1e05fce>\u001b[0m in \u001b[0;36m<module>\u001b[1;34m\u001b[0m\n\u001b[1;32m----> 1\u001b[1;33m \u001b[0mdf\u001b[0m \u001b[1;33m=\u001b[0m \u001b[0mpd\u001b[0m\u001b[1;33m.\u001b[0m\u001b[0mread_csv\u001b[0m\u001b[1;33m(\u001b[0m\u001b[1;34m'Advertising.csv'\u001b[0m\u001b[1;33m)\u001b[0m\u001b[1;33m\u001b[0m\u001b[1;33m\u001b[0m\u001b[0m\n\u001b[0m",
            "\u001b[1;32mc:\\Users\\kamal\\anaconda3\\lib\\site-packages\\pandas\\io\\parsers.py\u001b[0m in \u001b[0;36mread_csv\u001b[1;34m(filepath_or_buffer, sep, delimiter, header, names, index_col, usecols, squeeze, prefix, mangle_dupe_cols, dtype, engine, converters, true_values, false_values, skipinitialspace, skiprows, skipfooter, nrows, na_values, keep_default_na, na_filter, verbose, skip_blank_lines, parse_dates, infer_datetime_format, keep_date_col, date_parser, dayfirst, cache_dates, iterator, chunksize, compression, thousands, decimal, lineterminator, quotechar, quoting, doublequote, escapechar, comment, encoding, dialect, error_bad_lines, warn_bad_lines, delim_whitespace, low_memory, memory_map, float_precision, storage_options)\u001b[0m\n\u001b[0;32m    608\u001b[0m     \u001b[0mkwds\u001b[0m\u001b[1;33m.\u001b[0m\u001b[0mupdate\u001b[0m\u001b[1;33m(\u001b[0m\u001b[0mkwds_defaults\u001b[0m\u001b[1;33m)\u001b[0m\u001b[1;33m\u001b[0m\u001b[1;33m\u001b[0m\u001b[0m\n\u001b[0;32m    609\u001b[0m \u001b[1;33m\u001b[0m\u001b[0m\n\u001b[1;32m--> 610\u001b[1;33m     \u001b[1;32mreturn\u001b[0m \u001b[0m_read\u001b[0m\u001b[1;33m(\u001b[0m\u001b[0mfilepath_or_buffer\u001b[0m\u001b[1;33m,\u001b[0m \u001b[0mkwds\u001b[0m\u001b[1;33m)\u001b[0m\u001b[1;33m\u001b[0m\u001b[1;33m\u001b[0m\u001b[0m\n\u001b[0m\u001b[0;32m    611\u001b[0m \u001b[1;33m\u001b[0m\u001b[0m\n\u001b[0;32m    612\u001b[0m \u001b[1;33m\u001b[0m\u001b[0m\n",
            "\u001b[1;32mc:\\Users\\kamal\\anaconda3\\lib\\site-packages\\pandas\\io\\parsers.py\u001b[0m in \u001b[0;36m_read\u001b[1;34m(filepath_or_buffer, kwds)\u001b[0m\n\u001b[0;32m    460\u001b[0m \u001b[1;33m\u001b[0m\u001b[0m\n\u001b[0;32m    461\u001b[0m     \u001b[1;31m# Create the parser.\u001b[0m\u001b[1;33m\u001b[0m\u001b[1;33m\u001b[0m\u001b[1;33m\u001b[0m\u001b[0m\n\u001b[1;32m--> 462\u001b[1;33m     \u001b[0mparser\u001b[0m \u001b[1;33m=\u001b[0m \u001b[0mTextFileReader\u001b[0m\u001b[1;33m(\u001b[0m\u001b[0mfilepath_or_buffer\u001b[0m\u001b[1;33m,\u001b[0m \u001b[1;33m**\u001b[0m\u001b[0mkwds\u001b[0m\u001b[1;33m)\u001b[0m\u001b[1;33m\u001b[0m\u001b[1;33m\u001b[0m\u001b[0m\n\u001b[0m\u001b[0;32m    463\u001b[0m \u001b[1;33m\u001b[0m\u001b[0m\n\u001b[0;32m    464\u001b[0m     \u001b[1;32mif\u001b[0m \u001b[0mchunksize\u001b[0m \u001b[1;32mor\u001b[0m \u001b[0miterator\u001b[0m\u001b[1;33m:\u001b[0m\u001b[1;33m\u001b[0m\u001b[1;33m\u001b[0m\u001b[0m\n",
            "\u001b[1;32mc:\\Users\\kamal\\anaconda3\\lib\\site-packages\\pandas\\io\\parsers.py\u001b[0m in \u001b[0;36m__init__\u001b[1;34m(self, f, engine, **kwds)\u001b[0m\n\u001b[0;32m    817\u001b[0m             \u001b[0mself\u001b[0m\u001b[1;33m.\u001b[0m\u001b[0moptions\u001b[0m\u001b[1;33m[\u001b[0m\u001b[1;34m\"has_index_names\"\u001b[0m\u001b[1;33m]\u001b[0m \u001b[1;33m=\u001b[0m \u001b[0mkwds\u001b[0m\u001b[1;33m[\u001b[0m\u001b[1;34m\"has_index_names\"\u001b[0m\u001b[1;33m]\u001b[0m\u001b[1;33m\u001b[0m\u001b[1;33m\u001b[0m\u001b[0m\n\u001b[0;32m    818\u001b[0m \u001b[1;33m\u001b[0m\u001b[0m\n\u001b[1;32m--> 819\u001b[1;33m         \u001b[0mself\u001b[0m\u001b[1;33m.\u001b[0m\u001b[0m_engine\u001b[0m \u001b[1;33m=\u001b[0m \u001b[0mself\u001b[0m\u001b[1;33m.\u001b[0m\u001b[0m_make_engine\u001b[0m\u001b[1;33m(\u001b[0m\u001b[0mself\u001b[0m\u001b[1;33m.\u001b[0m\u001b[0mengine\u001b[0m\u001b[1;33m)\u001b[0m\u001b[1;33m\u001b[0m\u001b[1;33m\u001b[0m\u001b[0m\n\u001b[0m\u001b[0;32m    820\u001b[0m \u001b[1;33m\u001b[0m\u001b[0m\n\u001b[0;32m    821\u001b[0m     \u001b[1;32mdef\u001b[0m \u001b[0mclose\u001b[0m\u001b[1;33m(\u001b[0m\u001b[0mself\u001b[0m\u001b[1;33m)\u001b[0m\u001b[1;33m:\u001b[0m\u001b[1;33m\u001b[0m\u001b[1;33m\u001b[0m\u001b[0m\n",
            "\u001b[1;32mc:\\Users\\kamal\\anaconda3\\lib\\site-packages\\pandas\\io\\parsers.py\u001b[0m in \u001b[0;36m_make_engine\u001b[1;34m(self, engine)\u001b[0m\n\u001b[0;32m   1048\u001b[0m             )\n\u001b[0;32m   1049\u001b[0m         \u001b[1;31m# error: Too many arguments for \"ParserBase\"\u001b[0m\u001b[1;33m\u001b[0m\u001b[1;33m\u001b[0m\u001b[1;33m\u001b[0m\u001b[0m\n\u001b[1;32m-> 1050\u001b[1;33m         \u001b[1;32mreturn\u001b[0m \u001b[0mmapping\u001b[0m\u001b[1;33m[\u001b[0m\u001b[0mengine\u001b[0m\u001b[1;33m]\u001b[0m\u001b[1;33m(\u001b[0m\u001b[0mself\u001b[0m\u001b[1;33m.\u001b[0m\u001b[0mf\u001b[0m\u001b[1;33m,\u001b[0m \u001b[1;33m**\u001b[0m\u001b[0mself\u001b[0m\u001b[1;33m.\u001b[0m\u001b[0moptions\u001b[0m\u001b[1;33m)\u001b[0m  \u001b[1;31m# type: ignore[call-arg]\u001b[0m\u001b[1;33m\u001b[0m\u001b[1;33m\u001b[0m\u001b[0m\n\u001b[0m\u001b[0;32m   1051\u001b[0m \u001b[1;33m\u001b[0m\u001b[0m\n\u001b[0;32m   1052\u001b[0m     \u001b[1;32mdef\u001b[0m \u001b[0m_failover_to_python\u001b[0m\u001b[1;33m(\u001b[0m\u001b[0mself\u001b[0m\u001b[1;33m)\u001b[0m\u001b[1;33m:\u001b[0m\u001b[1;33m\u001b[0m\u001b[1;33m\u001b[0m\u001b[0m\n",
            "\u001b[1;32mc:\\Users\\kamal\\anaconda3\\lib\\site-packages\\pandas\\io\\parsers.py\u001b[0m in \u001b[0;36m__init__\u001b[1;34m(self, src, **kwds)\u001b[0m\n\u001b[0;32m   1865\u001b[0m \u001b[1;33m\u001b[0m\u001b[0m\n\u001b[0;32m   1866\u001b[0m         \u001b[1;31m# open handles\u001b[0m\u001b[1;33m\u001b[0m\u001b[1;33m\u001b[0m\u001b[1;33m\u001b[0m\u001b[0m\n\u001b[1;32m-> 1867\u001b[1;33m         \u001b[0mself\u001b[0m\u001b[1;33m.\u001b[0m\u001b[0m_open_handles\u001b[0m\u001b[1;33m(\u001b[0m\u001b[0msrc\u001b[0m\u001b[1;33m,\u001b[0m \u001b[0mkwds\u001b[0m\u001b[1;33m)\u001b[0m\u001b[1;33m\u001b[0m\u001b[1;33m\u001b[0m\u001b[0m\n\u001b[0m\u001b[0;32m   1868\u001b[0m         \u001b[1;32massert\u001b[0m \u001b[0mself\u001b[0m\u001b[1;33m.\u001b[0m\u001b[0mhandles\u001b[0m \u001b[1;32mis\u001b[0m \u001b[1;32mnot\u001b[0m \u001b[1;32mNone\u001b[0m\u001b[1;33m\u001b[0m\u001b[1;33m\u001b[0m\u001b[0m\n\u001b[0;32m   1869\u001b[0m         \u001b[1;32mfor\u001b[0m \u001b[0mkey\u001b[0m \u001b[1;32min\u001b[0m \u001b[1;33m(\u001b[0m\u001b[1;34m\"storage_options\"\u001b[0m\u001b[1;33m,\u001b[0m \u001b[1;34m\"encoding\"\u001b[0m\u001b[1;33m,\u001b[0m \u001b[1;34m\"memory_map\"\u001b[0m\u001b[1;33m,\u001b[0m \u001b[1;34m\"compression\"\u001b[0m\u001b[1;33m)\u001b[0m\u001b[1;33m:\u001b[0m\u001b[1;33m\u001b[0m\u001b[1;33m\u001b[0m\u001b[0m\n",
            "\u001b[1;32mc:\\Users\\kamal\\anaconda3\\lib\\site-packages\\pandas\\io\\parsers.py\u001b[0m in \u001b[0;36m_open_handles\u001b[1;34m(self, src, kwds)\u001b[0m\n\u001b[0;32m   1360\u001b[0m         \u001b[0mLet\u001b[0m \u001b[0mthe\u001b[0m \u001b[0mreaders\u001b[0m \u001b[0mopen\u001b[0m \u001b[0mIOHanldes\u001b[0m \u001b[0mafter\u001b[0m \u001b[0mthey\u001b[0m \u001b[0mare\u001b[0m \u001b[0mdone\u001b[0m \u001b[1;32mwith\u001b[0m \u001b[0mtheir\u001b[0m \u001b[0mpotential\u001b[0m \u001b[0mraises\u001b[0m\u001b[1;33m.\u001b[0m\u001b[1;33m\u001b[0m\u001b[1;33m\u001b[0m\u001b[0m\n\u001b[0;32m   1361\u001b[0m         \"\"\"\n\u001b[1;32m-> 1362\u001b[1;33m         self.handles = get_handle(\n\u001b[0m\u001b[0;32m   1363\u001b[0m             \u001b[0msrc\u001b[0m\u001b[1;33m,\u001b[0m\u001b[1;33m\u001b[0m\u001b[1;33m\u001b[0m\u001b[0m\n\u001b[0;32m   1364\u001b[0m             \u001b[1;34m\"r\"\u001b[0m\u001b[1;33m,\u001b[0m\u001b[1;33m\u001b[0m\u001b[1;33m\u001b[0m\u001b[0m\n",
            "\u001b[1;32mc:\\Users\\kamal\\anaconda3\\lib\\site-packages\\pandas\\io\\common.py\u001b[0m in \u001b[0;36mget_handle\u001b[1;34m(path_or_buf, mode, encoding, compression, memory_map, is_text, errors, storage_options)\u001b[0m\n\u001b[0;32m    640\u001b[0m                 \u001b[0merrors\u001b[0m \u001b[1;33m=\u001b[0m \u001b[1;34m\"replace\"\u001b[0m\u001b[1;33m\u001b[0m\u001b[1;33m\u001b[0m\u001b[0m\n\u001b[0;32m    641\u001b[0m             \u001b[1;31m# Encoding\u001b[0m\u001b[1;33m\u001b[0m\u001b[1;33m\u001b[0m\u001b[1;33m\u001b[0m\u001b[0m\n\u001b[1;32m--> 642\u001b[1;33m             handle = open(\n\u001b[0m\u001b[0;32m    643\u001b[0m                 \u001b[0mhandle\u001b[0m\u001b[1;33m,\u001b[0m\u001b[1;33m\u001b[0m\u001b[1;33m\u001b[0m\u001b[0m\n\u001b[0;32m    644\u001b[0m                 \u001b[0mioargs\u001b[0m\u001b[1;33m.\u001b[0m\u001b[0mmode\u001b[0m\u001b[1;33m,\u001b[0m\u001b[1;33m\u001b[0m\u001b[1;33m\u001b[0m\u001b[0m\n",
            "\u001b[1;31mFileNotFoundError\u001b[0m: [Errno 2] No such file or directory: 'Advertising.csv'"
          ]
        }
      ],
      "source": [
        "df = pd.read_csv('Advertising.csv')"
      ]
    },
    {
      "cell_type": "markdown",
      "metadata": {
        "id": "iZL4rHzO5Ziw"
      },
      "source": [
        "Representation graphique brute des données (scatter plot)"
      ]
    },
    {
      "cell_type": "code",
      "execution_count": null,
      "metadata": {
        "colab": {
          "base_uri": "https://localhost:8080/",
          "height": 489
        },
        "id": "bG38JNfCHFV7",
        "outputId": "87ea2c44-7841-4e5c-f515-57b9aa66ec3d"
      },
      "outputs": [],
      "source": [
        "X = df['sales']\n",
        "Y = df[\"TV\"] + df[\"radio\"]+df[\"newspaper\"]\n",
        "\n",
        "plt.scatter(X,Y)\n",
        "plt.title(\"Sales relation with advertisement\")\n",
        "plt.xlabel(\"Sales\")\n",
        "plt.ylabel(\"Investement\")"
      ]
    },
    {
      "cell_type": "code",
      "execution_count": null,
      "metadata": {
        "id": "Bqomo73gM6PZ"
      },
      "outputs": [],
      "source": [
        "model = simple_linear_regression()\n",
        "model.fitModel(X, Y)\n",
        "Yfit = model.predictModel(X, Y)"
      ]
    },
    {
      "cell_type": "markdown",
      "metadata": {
        "id": "34D1-3Y-5mCV"
      },
      "source": [
        "Entrainement de notre modéle, estimation d'une courbe ."
      ]
    },
    {
      "cell_type": "code",
      "execution_count": null,
      "metadata": {
        "colab": {
          "base_uri": "https://localhost:8080/",
          "height": 472
        },
        "id": "NYaf_BAYSGd2",
        "outputId": "34eb0291-f1e0-4796-b905-592868a27ed8"
      },
      "outputs": [],
      "source": [
        "plt.scatter(X,Y)\n",
        "plt.plot(X,Yfit,color=\"red\")\n",
        "plt.title(\"Sales relation with advertisement\")\n",
        "plt.xlabel(\"Sales\")\n",
        "plt.ylabel(\"Investement\")\n",
        "plt.savefig(fname='linearRegression.jpg',dpi=200)"
      ]
    },
    {
      "cell_type": "code",
      "execution_count": null,
      "metadata": {
        "colab": {
          "base_uri": "https://localhost:8080/"
        },
        "id": "ghah5W3TttDz",
        "outputId": "cca9dd7d-a5b9-486a-f255-5c833fb8e89d"
      },
      "outputs": [],
      "source": [
        "model.predictValue(25,X,Y)"
      ]
    },
    {
      "cell_type": "markdown",
      "metadata": {
        "id": "zZNq7TUuSqYa"
      },
      "source": [
        "# General Linear Regression with multiple variables"
      ]
    },
    {
      "cell_type": "markdown",
      "metadata": {
        "id": "D8AeAdH25tgm"
      },
      "source": [
        "Ceci est une generalisation du modéle précedent , on utilise une formule général acceptant n \"feature\" X :\n",
        "\n",
        "$\\hat{Y} = X \\cdot \\beta$\n",
        "\n",
        "avec :\n",
        "\n",
        "---\n",
        "\n",
        "\n",
        "\n",
        " X est la matrice des features   ;\n",
        "\n",
        " $\\beta$ la matrice des coéfficients;\n",
        "\n",
        " Y la matrice des labels ;\n",
        "\n",
        "\n",
        "---\n",
        "\n",
        "\n",
        "\n",
        " on resout cette equation par la méthode des moindres carrés qui consiste à minimiser la Jacobienne de la différence entre le label prédit et les données réelles :\n",
        "\n",
        " $\\beta = (X^T \\cdot X)^{-1} \\cdot X^T \\cdot Y$\n"
      ]
    },
    {
      "cell_type": "code",
      "execution_count": null,
      "metadata": {
        "id": "uXv7K3MKS0cM"
      },
      "outputs": [],
      "source": [
        "class LinearRegression:\n",
        "    def __init__(self):\n",
        "        self.coef = None\n",
        "\n",
        "    def fitModel(self, X, Y):\n",
        "        Xplus = np.column_stack([np.ones_like(X), X])\n",
        "        self.coef = np.matmul(np.linalg.pinv(Xplus), Y)\n",
        "\n",
        "    def predictModel(self, X):\n",
        "        Xplus = np.column_stack([np.ones_like(X), X])\n",
        "        return np.matmul(Xplus, self.coef)"
      ]
    },
    {
      "cell_type": "code",
      "execution_count": null,
      "metadata": {
        "id": "TVXDC19xUcmR"
      },
      "outputs": [],
      "source": [
        "advancedModel = LinearRegression()\n",
        "advancedModel.fitModel(X,Y)\n",
        "Yfit2 = advancedModel.predictModel(X)"
      ]
    },
    {
      "cell_type": "code",
      "execution_count": null,
      "metadata": {
        "colab": {
          "base_uri": "https://localhost:8080/",
          "height": 925
        },
        "id": "TEfFHfaQiRk7",
        "outputId": "2795f9ab-e2e8-4675-9cd7-ac0b1e7bee9a"
      },
      "outputs": [],
      "source": [
        "plt.figure(dpi=200)\n",
        "plt.scatter(X,Y)\n",
        "plt.plot(X,Yfit2,color=\"purple\")\n",
        "plt.title(\"Sales relation with advertisement\")\n",
        "plt.errorbar(X, Yfit2, yerr=np.abs(Y-Yfit2), fmt='none', ecolor='red', label='Error bars')\n",
        "plt.xlabel(\"Sales\")\n",
        "plt.ylabel(\"Investement\")\n",
        "plt.show()"
      ]
    },
    {
      "cell_type": "markdown",
      "metadata": {
        "id": "-tqbtpZIo1fB"
      },
      "source": [
        "# Regression Linéaire en utilisant Numpy"
      ]
    },
    {
      "cell_type": "code",
      "execution_count": null,
      "metadata": {
        "colab": {
          "base_uri": "https://localhost:8080/"
        },
        "id": "ZzHZ3Wjho072",
        "outputId": "eb474ec2-3751-421a-a24c-edfd943cd33a"
      },
      "outputs": [],
      "source": [
        "parametres = np.polyfit(X,Y,deg=1) #parametres de l'ajustement\n",
        "parametres"
      ]
    },
    {
      "cell_type": "code",
      "execution_count": null,
      "metadata": {
        "id": "UI3nDtB42v8r"
      },
      "outputs": [],
      "source": [
        "Yfit3 = parametres[0]*X+ parametres[1]"
      ]
    },
    {
      "cell_type": "code",
      "execution_count": null,
      "metadata": {
        "colab": {
          "base_uri": "https://localhost:8080/",
          "height": 925
        },
        "id": "DZgTJpgG2Z2X",
        "outputId": "cb7a25ac-3818-4f7d-d182-14bc553a16e6"
      },
      "outputs": [],
      "source": [
        "plt.figure(dpi=200)\n",
        "plt.scatter(X,Y)\n",
        "plt.plot(X,Yfit3,color=\"purple\")\n",
        "plt.title(\"Sales relation with advertisement\")\n",
        "plt.xlabel(\"Sales\")\n",
        "plt.ylabel(\"Investement\")\n",
        "plt.show()"
      ]
    },
    {
      "cell_type": "markdown",
      "metadata": {
        "id": "UGLAcLXu8Zdh"
      },
      "source": [
        "# REGRESSION LINEAIRE EN UTILISANT SCIKIT-LEARN :\n",
        "*scikit-learn nous permet de fractionner notre ensemble de données en données de test et données d'entrainement afin d'eviter l'over-fitting.*"
      ]
    },
    {
      "cell_type": "code",
      "execution_count": null,
      "metadata": {
        "id": "xrKngOxl8z1g"
      },
      "outputs": [],
      "source": [
        "from sklearn.model_selection import train_test_split"
      ]
    },
    {
      "cell_type": "markdown",
      "metadata": {
        "id": "fH4gm6-t9Lj9"
      },
      "source": [
        "# representation des données à N-dimensions"
      ]
    },
    {
      "cell_type": "code",
      "execution_count": null,
      "metadata": {
        "colab": {
          "base_uri": "https://localhost:8080/",
          "height": 541
        },
        "id": "1PGyN0BU9HJ3",
        "outputId": "ca378095-db69-4e79-9f19-440236fbad80"
      },
      "outputs": [],
      "source": [
        "fig,axes = plt.subplots(nrows=1,ncols=3,figsize=(16,6))\n",
        "\n",
        "axes[0].plot(df['TV'],df['sales'],'o')\n",
        "axes[0].set_ylabel(\"Sales\")\n",
        "axes[0].set_title(\"Dépenses TV\")\n",
        "\n",
        "axes[1].plot(df['radio'],df['sales'],'o')\n",
        "axes[1].set_title(\"Dépenses Radio\")\n",
        "axes[1].set_ylabel(\"Sales\")\n",
        "\n",
        "axes[2].plot(df['newspaper'],df['sales'],'o')\n",
        "axes[2].set_title(\"Dépenses Newspaper\")\n",
        "axes[2].set_ylabel(\"Sales\")\n",
        "plt.tight_layout()"
      ]
    },
    {
      "cell_type": "markdown",
      "metadata": {
        "id": "9vCmtEvO9cnz"
      },
      "source": [
        "# Diviser les données en deux sections: des données d'entrainement et des données de test."
      ]
    },
    {
      "cell_type": "code",
      "execution_count": null,
      "metadata": {
        "id": "GE5lKaIt-ps5"
      },
      "outputs": [],
      "source": [
        "X = df.drop('sales',axis=1)\n",
        "y = df['sales']"
      ]
    },
    {
      "cell_type": "code",
      "execution_count": null,
      "metadata": {
        "id": "JsqekJuS9Wjf"
      },
      "outputs": [],
      "source": [
        "X_train, X_test, y_train, y_test = train_test_split(X, Y, test_size=0.3, random_state=101)"
      ]
    },
    {
      "cell_type": "markdown",
      "metadata": {
        "id": "UhxacG0c944b"
      },
      "source": [
        "# Le modéle de regression linéaire :"
      ]
    },
    {
      "cell_type": "code",
      "execution_count": null,
      "metadata": {
        "id": "qiB74hR793Wh"
      },
      "outputs": [],
      "source": [
        "from sklearn.linear_model import LinearRegression"
      ]
    },
    {
      "cell_type": "code",
      "execution_count": null,
      "metadata": {
        "id": "fAth3LJI-I5I"
      },
      "outputs": [],
      "source": [
        "model = LinearRegression()"
      ]
    },
    {
      "cell_type": "code",
      "execution_count": null,
      "metadata": {
        "colab": {
          "base_uri": "https://localhost:8080/",
          "height": 74
        },
        "id": "5bi3cz20-U7g",
        "outputId": "f1929867-8077-4894-9ffc-6ec77b710cc3"
      },
      "outputs": [],
      "source": [
        "model.fit(X=X_train,y=y_train)"
      ]
    },
    {
      "cell_type": "markdown",
      "metadata": {
        "id": "y0bNujFg-2M6"
      },
      "source": [
        "### Metrics pour mesurer la validité des données :\n",
        "\n",
        "\n",
        "\n",
        "**Mean Absolute Error** (MAE) est la moyenne de la valeur absolue des erreurs :\n",
        "\n",
        "$$\\frac 1n\\sum_{i=1}^n|y_i-\\hat{y}_i|$$\n",
        "\n",
        "**Mean Squared Error** (MSE) est la moyenne des erreurs quadratiques:\n",
        "\n",
        "$$\\frac 1n\\sum_{i=1}^n(y_i-\\hat{y}_i)^2$$\n",
        "\n",
        "**Root Mean Squared Error** (RMSE) est la racine carrée de la moyenne des erreurs au carré:\n",
        "\n",
        "$$\\sqrt{\\frac 1n\\sum_{i=1}^n(y_i-\\hat{y}_i)^2}$$\n"
      ]
    },
    {
      "cell_type": "code",
      "execution_count": null,
      "metadata": {
        "id": "DZzsnvdL-tbA"
      },
      "outputs": [],
      "source": [
        "test_predictions = model.predict(X_test)"
      ]
    },
    {
      "cell_type": "code",
      "execution_count": null,
      "metadata": {
        "id": "wwPj46_T_a1G"
      },
      "outputs": [],
      "source": [
        "from sklearn.metrics import mean_absolute_error,mean_squared_error"
      ]
    },
    {
      "cell_type": "code",
      "execution_count": null,
      "metadata": {
        "id": "TZ4kVrDg_fbO"
      },
      "outputs": [],
      "source": [
        "MAE = mean_absolute_error(y_test,test_predictions)\n",
        "MSE = mean_squared_error(y_test,test_predictions)\n",
        "RMSE = np.sqrt(MSE)"
      ]
    },
    {
      "cell_type": "code",
      "execution_count": null,
      "metadata": {
        "colab": {
          "base_uri": "https://localhost:8080/"
        },
        "id": "eNdmQktn_gSJ",
        "outputId": "49e88239-b7bd-4229-b1f1-a5482761fa92"
      },
      "outputs": [],
      "source": [
        "MAE"
      ]
    },
    {
      "cell_type": "code",
      "execution_count": null,
      "metadata": {
        "colab": {
          "base_uri": "https://localhost:8080/"
        },
        "id": "qA9jXlA2_i6w",
        "outputId": "92c50978-5b2c-4e3c-aeee-5aa894035866"
      },
      "outputs": [],
      "source": [
        "MSE"
      ]
    },
    {
      "cell_type": "code",
      "execution_count": null,
      "metadata": {
        "colab": {
          "base_uri": "https://localhost:8080/"
        },
        "id": "25LHgSbI_kRW",
        "outputId": "33675fef-96f1-479b-b5f5-cf762f61ac25"
      },
      "outputs": [],
      "source": [
        "RMSE"
      ]
    },
    {
      "cell_type": "code",
      "execution_count": null,
      "metadata": {
        "id": "2YywrQbW9jnJ"
      },
      "outputs": [],
      "source": [
        "from sklearn.metrics import accuracy_score"
      ]
    },
    {
      "cell_type": "code",
      "execution_count": null,
      "metadata": {
        "colab": {
          "base_uri": "https://localhost:8080/"
        },
        "id": "DF2YNYje-ac0",
        "outputId": "c4b90eec-6540-481b-8aa1-a68f06c76458"
      },
      "outputs": [],
      "source": [
        "accuracy_score(y_true,test_predictions)"
      ]
    },
    {
      "cell_type": "code",
      "execution_count": null,
      "metadata": {
        "colab": {
          "base_uri": "https://localhost:8080/"
        },
        "id": "6B6PPVdm-di-",
        "outputId": "15a0a0cd-a534-4aa7-b9ca-f1cf3240dc56"
      },
      "outputs": [],
      "source": [
        "np.array(y_test)"
      ]
    }
  ],
  "metadata": {
    "colab": {
      "collapsed_sections": [
        "_VZmkIrFkyRR",
        "zZNq7TUuSqYa",
        "-tqbtpZIo1fB"
      ],
      "provenance": []
    },
    "kernelspec": {
      "display_name": "Python 3",
      "name": "python3"
    },
    "language_info": {
      "codemirror_mode": {
        "name": "ipython",
        "version": 3
      },
      "file_extension": ".py",
      "mimetype": "text/x-python",
      "name": "python",
      "nbconvert_exporter": "python",
      "pygments_lexer": "ipython3",
      "version": "3.8.8"
    }
  },
  "nbformat": 4,
  "nbformat_minor": 0
}
