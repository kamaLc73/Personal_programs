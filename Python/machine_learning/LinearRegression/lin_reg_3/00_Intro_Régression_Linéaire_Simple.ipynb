{
  "cells": [
    {
      "cell_type": "markdown",
      "metadata": {
        "id": "InTFBX2wtd8f"
      },
      "source": [
        "<a href='http://moncoachdata.com'><img src= 'https://moncoachdata.com/wp-content/uploads/MonCoachData-cours/MonCoachData.jpg' width=400/></a>\n",
        "\n",
        "\n",
        "---\n",
        "\n",
        "\n",
        "<center><em>Copyright MonCoachData (tous droits réservés)</em></center>\n",
        "<center><em>Pour plus d'informations, visitez notre site <a href='http://moncoachdata.com'>moncoachdata.com</a></em></center>\n",
        "\n",
        "\n",
        "\n",
        "---"
      ]
    },
    {
      "cell_type": "markdown",
      "metadata": {
        "id": "4OW1DvsEtd8j"
      },
      "source": [
        "# Introduction à la Régression Linéaire Simple\n",
        "\n",
        "Dans cet exemple très simple, nous allons explorer comment créer une droite d'ajustement très simple (le cas classique de y = mx + b). Nous allons passer en revue chaque étape avec soin, afin que vous puissiez voir à quel type de question une ligne droite d'ajustement simple peut répondre. Gardez à l'esprit que ce cas est très simplifié et n'est pas l'approche que nous adopterons plus tard, c'est juste là pour vous faire réfléchir à la régression linéaire de la même manière que [Galton](https://en.wikipedia.org/wiki/Francis_Galton) l'a fait."
      ]
    },
    {
      "cell_type": "markdown",
      "metadata": {
        "id": "SbsrCdo3td8k"
      },
      "source": [
        "## Importations"
      ]
    },
    {
      "cell_type": "code",
      "execution_count": 3,
      "metadata": {
        "id": "ECOtBmhxtd8l"
      },
      "outputs": [],
      "source": [
        "import numpy as np\n",
        "import pandas as pd\n",
        "import matplotlib.pyplot as plt\n",
        "import seaborn as sns"
      ]
    },
    {
      "cell_type": "markdown",
      "metadata": {
        "id": "Sq7wdwRAtd8m"
      },
      "source": [
        "## Échantillons de données\n",
        "\n",
        "\n",
        "Ces exemples de données proviennent du livre l'ISLR. Il affiche les ventes (en milliers d'unités) pour un produit particulier en fonction des budgets publicitaires (en milliers de dollars) pour la télévision, la radio et les journaux."
      ]
    },
    {
      "cell_type": "code",
      "execution_count": 4,
      "metadata": {
        "id": "129YNJ6jtd8n"
      },
      "outputs": [],
      "source": [
        "df = pd.read_csv(\"Advertising.csv\")"
      ]
    },
    {
      "cell_type": "code",
      "execution_count": 5,
      "metadata": {
        "colab": {
          "base_uri": "https://localhost:8080/",
          "height": 206
        },
        "id": "SKLl0xvutd8n",
        "outputId": "6600c435-8014-4ec4-f641-bf9a201ee231"
      },
      "outputs": [
        {
          "data": {
            "text/html": [
              "<div>\n",
              "<style scoped>\n",
              "    .dataframe tbody tr th:only-of-type {\n",
              "        vertical-align: middle;\n",
              "    }\n",
              "\n",
              "    .dataframe tbody tr th {\n",
              "        vertical-align: top;\n",
              "    }\n",
              "\n",
              "    .dataframe thead th {\n",
              "        text-align: right;\n",
              "    }\n",
              "</style>\n",
              "<table border=\"1\" class=\"dataframe\">\n",
              "  <thead>\n",
              "    <tr style=\"text-align: right;\">\n",
              "      <th></th>\n",
              "      <th>TV</th>\n",
              "      <th>radio</th>\n",
              "      <th>newspaper</th>\n",
              "      <th>sales</th>\n",
              "    </tr>\n",
              "  </thead>\n",
              "  <tbody>\n",
              "    <tr>\n",
              "      <th>0</th>\n",
              "      <td>230.1</td>\n",
              "      <td>37.8</td>\n",
              "      <td>69.2</td>\n",
              "      <td>22.1</td>\n",
              "    </tr>\n",
              "    <tr>\n",
              "      <th>1</th>\n",
              "      <td>44.5</td>\n",
              "      <td>39.3</td>\n",
              "      <td>45.1</td>\n",
              "      <td>10.4</td>\n",
              "    </tr>\n",
              "    <tr>\n",
              "      <th>2</th>\n",
              "      <td>17.2</td>\n",
              "      <td>45.9</td>\n",
              "      <td>69.3</td>\n",
              "      <td>9.3</td>\n",
              "    </tr>\n",
              "    <tr>\n",
              "      <th>3</th>\n",
              "      <td>151.5</td>\n",
              "      <td>41.3</td>\n",
              "      <td>58.5</td>\n",
              "      <td>18.5</td>\n",
              "    </tr>\n",
              "    <tr>\n",
              "      <th>4</th>\n",
              "      <td>180.8</td>\n",
              "      <td>10.8</td>\n",
              "      <td>58.4</td>\n",
              "      <td>12.9</td>\n",
              "    </tr>\n",
              "  </tbody>\n",
              "</table>\n",
              "</div>"
            ],
            "text/plain": [
              "      TV  radio  newspaper  sales\n",
              "0  230.1   37.8       69.2   22.1\n",
              "1   44.5   39.3       45.1   10.4\n",
              "2   17.2   45.9       69.3    9.3\n",
              "3  151.5   41.3       58.5   18.5\n",
              "4  180.8   10.8       58.4   12.9"
            ]
          },
          "execution_count": 5,
          "metadata": {},
          "output_type": "execute_result"
        }
      ],
      "source": [
        "df.head()"
      ]
    },
    {
      "cell_type": "markdown",
      "metadata": {
        "id": "WoJQd3fktd8p"
      },
      "source": [
        "**Y a-t-il un lien entre *le total* des dépenses publicitaires et les *ventes* (sales) ?**"
      ]
    },
    {
      "cell_type": "code",
      "execution_count": 6,
      "metadata": {
        "id": "WkXloeSOtd8q"
      },
      "outputs": [],
      "source": [
        "df['total_spend'] = df['TV'] + df['radio'] + df['newspaper']"
      ]
    },
    {
      "cell_type": "code",
      "execution_count": 7,
      "metadata": {
        "colab": {
          "base_uri": "https://localhost:8080/",
          "height": 280
        },
        "id": "rq6tvCuttd8r",
        "outputId": "f46f3450-efc3-4cd9-d2f0-bbe8c9b3154a",
        "scrolled": true
      },
      "outputs": [
        {
          "data": {
            "image/png": "[encoded data removed]",
            "text/plain": [
              "<Figure size 432x288 with 1 Axes>"
            ]
          },
          "metadata": {
            "needs_background": "light"
          },
          "output_type": "display_data"
        }
      ],
      "source": [
        "sns.scatterplot(x='total_spend',y='sales',data=df);"
      ]
    },
    {
      "cell_type": "markdown",
      "metadata": {
        "id": "scZAh1j-td8s"
      },
      "source": [
        "## Droite des Moindres Carrés\n",
        "\n",
        "Disponibles sur Wikipedia : https://en.wikipedia.org/wiki/Linear_regression, ainsi qu'en lecture avec le livre ISLR.\n",
        "\n",
        "Version en français : https://fr.wikipedia.org/wiki/Régression_linéaire"
      ]
    },
    {
      "cell_type": "markdown",
      "metadata": {
        "id": "pXmk4Y3itd8s"
      },
      "source": [
        "**Comprendre à quoi répond la ligne droite de meilleure ajustement.**\n",
        "\n",
        "Si quelqu'un devait dépenser 200$ au total, quelles seraient les ventes attendues ? Nous avons beaucoup simplifié cela en combinant toutes les features en \"total_spend\" (dépenses totales), mais nous reviendrons plus tard sur les features individuelles. Pour l'instant, concentrons-nous sur la compréhension de ce qu'une droite de régression linéaire peut nous aider à répondre.\n",
        "\n",
        "\n",
        "\n",
        "**Notre prochaine campagne publicitaire aura des dépenses totales de 200 $, combien d'unités devrions-nous vendre à la suite de cette campagne ?**"
      ]
    },
    {
      "cell_type": "code",
      "execution_count": 8,
      "metadata": {
        "colab": {
          "base_uri": "https://localhost:8080/",
          "height": 280
        },
        "id": "EAYVAZNKtd8t",
        "outputId": "3b8c2d16-69f8-4c5c-f24b-df7815253101"
      },
      "outputs": [
        {
          "data": {
            "image/png": "[encoded data removed]",
            "text/plain": [
              "<Figure size 432x288 with 1 Axes>"
            ]
          },
          "metadata": {
            "needs_background": "light"
          },
          "output_type": "display_data"
        }
      ],
      "source": [
        "# En gros, nous voulons savoir comment créer cette droite\n",
        "sns.regplot(x='total_spend',y='sales',data=df);"
      ]
    },
    {
      "cell_type": "markdown",
      "metadata": {
        "id": "p3WFQqJ8td8t"
      },
      "source": [
        "Continuons et commençons à résoudre : $$y=mx+b$$"
      ]
    },
    {
      "cell_type": "markdown",
      "metadata": {
        "id": "uWGnm1IYtd8u"
      },
      "source": [
        "Il suffit de résoudre pour m et b, en se rappelant que, comme indiqué dans la vidéo, nous résolvons sous une forme généralisée :\n",
        "\n",
        "$$ \\hat{y} = \\beta_0 + \\beta_1X$$\n",
        "\n",
        "Avec une majuscule pour signaler que nous avons affaire à une matrice de valeurs, nous avons une matrice connue de labels / étiquettes (nombres de vente / sales) Y et une matrice connue de total_spend / dépenses totales (X). Nous allons résoudre les coefficients *bêta*, qui, à mesure que nous nous étendons à plus d'une feature / caractéristique, seront importants pour comprendre quelles features ont le plus grand pouvoir prédictif. Nous utilisons y chapeau pour indiquer que y chapeau est une prédiction ou une estimation, y serait une étiquette (label) Vraie ou une valeur connue.\n",
        "\n",
        "Nous pouvons utiliser NumPy pour cela (si vous le souhaitez vraiment, vous pouvez résoudre ce problème [à la main](https://towardsdatascience.com/linear-regression-by-hand-ee7fe5a751bf))"
      ]
    },
    {
      "cell_type": "code",
      "execution_count": 9,
      "metadata": {
        "id": "p_v2neMttd8u"
      },
      "outputs": [],
      "source": [
        "X = df['total_spend']\n",
        "y = df['sales']"
      ]
    },
    {
      "cell_type": "code",
      "execution_count": 10,
      "metadata": {
        "colab": {
          "base_uri": "https://localhost:8080/"
        },
        "id": "GOXLUtLltd8v",
        "outputId": "a5862e9b-5881-4136-b52f-fa903318ff22"
      },
      "outputs": [
        {
          "name": "stdout",
          "output_type": "stream",
          "text": [
            "Help on function polyfit in module numpy:\n",
            "\n",
            "polyfit(x, y, deg, rcond=None, full=False, w=None, cov=False)\n",
            "    Least squares polynomial fit.\n",
            "    \n",
            "    .. note::\n",
            "       This forms part of the old polynomial API. Since version 1.4, the\n",
            "       new polynomial API defined in `numpy.polynomial` is preferred.\n",
            "       A summary of the differences can be found in the\n",
            "       :doc:`transition guide </reference/routines.polynomials>`.\n",
            "    \n",
            "    Fit a polynomial ``p(x) = p[0] * x**deg + ... + p[deg]`` of degree `deg`\n",
            "    to points `(x, y)`. Returns a vector of coefficients `p` that minimises\n",
            "    the squared error in the order `deg`, `deg-1`, ... `0`.\n",
            "    \n",
            "    The `Polynomial.fit <numpy.polynomial.polynomial.Polynomial.fit>` class\n",
            "    method is recommended for new code as it is more stable numerically. See\n",
            "    the documentation of the method for more information.\n",
            "    \n",
            "    Parameters\n",
            "    ----------\n",
            "    x : array_like, shape (M,)\n",
            "        x-coordinates of the M sample points ``(x[i], y[i])``.\n",
            "    y : array_like, shape (M,) or (M, K)\n",
            "        y-coordinates of the sample points. Several data sets of sample\n",
            "        points sharing the same x-coordinates can be fitted at once by\n",
            "        passing in a 2D-array that contains one dataset per column.\n",
            "    deg : int\n",
            "        Degree of the fitting polynomial\n",
            "    rcond : float, optional\n",
            "        Relative condition number of the fit. Singular values smaller than\n",
            "        this relative to the largest singular value will be ignored. The\n",
            "        default value is len(x)*eps, where eps is the relative precision of\n",
            "        the float type, about 2e-16 in most cases.\n",
            "    full : bool, optional\n",
            "        Switch determining nature of return value. When it is False (the\n",
            "        default) just the coefficients are returned, when True diagnostic\n",
            "        information from the singular value decomposition is also returned.\n",
            "    w : array_like, shape (M,), optional\n",
            "        Weights to apply to the y-coordinates of the sample points. For\n",
            "        gaussian uncertainties, use 1/sigma (not 1/sigma**2).\n",
            "    cov : bool or str, optional\n",
            "        If given and not `False`, return not just the estimate but also its\n",
            "        covariance matrix. By default, the covariance are scaled by\n",
            "        chi2/dof, where dof = M - (deg + 1), i.e., the weights are presumed \n",
            "        to be unreliable except in a relative sense and everything is scaled \n",
            "        such that the reduced chi2 is unity. This scaling is omitted if \n",
            "        ``cov='unscaled'``, as is relevant for the case that the weights are \n",
            "        1/sigma**2, with sigma known to be a reliable estimate of the \n",
            "        uncertainty.\n",
            "    \n",
            "    Returns\n",
            "    -------\n",
            "    p : ndarray, shape (deg + 1,) or (deg + 1, K)\n",
            "        Polynomial coefficients, highest power first.  If `y` was 2-D, the\n",
            "        coefficients for `k`-th data set are in ``p[:,k]``.\n",
            "    \n",
            "    residuals, rank, singular_values, rcond\n",
            "        Present only if `full` = True.  Residuals is sum of squared residuals\n",
            "        of the least-squares fit, the effective rank of the scaled Vandermonde\n",
            "        coefficient matrix, its singular values, and the specified value of\n",
            "        `rcond`. For more details, see `linalg.lstsq`.\n",
            "    \n",
            "    V : ndarray, shape (M,M) or (M,M,K)\n",
            "        Present only if `full` = False and `cov`=True.  The covariance\n",
            "        matrix of the polynomial coefficient estimates.  The diagonal of\n",
            "        this matrix are the variance estimates for each coefficient.  If y\n",
            "        is a 2-D array, then the covariance matrix for the `k`-th data set\n",
            "        are in ``V[:,:,k]``\n",
            "    \n",
            "    \n",
            "    Warns\n",
            "    -----\n",
            "    RankWarning\n",
            "        The rank of the coefficient matrix in the least-squares fit is\n",
            "        deficient. The warning is only raised if `full` = False.\n",
            "    \n",
            "        The warnings can be turned off by\n",
            "    \n",
            "        >>> import warnings\n",
            "        >>> warnings.simplefilter('ignore', np.RankWarning)\n",
            "    \n",
            "    See Also\n",
            "    --------\n",
            "    polyval : Compute polynomial values.\n",
            "    linalg.lstsq : Computes a least-squares fit.\n",
            "    scipy.interpolate.UnivariateSpline : Computes spline fits.\n",
            "    \n",
            "    Notes\n",
            "    -----\n",
            "    The solution minimizes the squared error\n",
            "    \n",
            "    .. math ::\n",
            "        E = \\sum_{j=0}^k |p(x_j) - y_j|^2\n",
            "    \n",
            "    in the equations::\n",
            "    \n",
            "        x[0]**n * p[0] + ... + x[0] * p[n-1] + p[n] = y[0]\n",
            "        x[1]**n * p[0] + ... + x[1] * p[n-1] + p[n] = y[1]\n",
            "        ...\n",
            "        x[k]**n * p[0] + ... + x[k] * p[n-1] + p[n] = y[k]\n",
            "    \n",
            "    The coefficient matrix of the coefficients `p` is a Vandermonde matrix.\n",
            "    \n",
            "    `polyfit` issues a `RankWarning` when the least-squares fit is badly\n",
            "    conditioned. This implies that the best fit is not well-defined due\n",
            "    to numerical error. The results may be improved by lowering the polynomial\n",
            "    degree or by replacing `x` by `x` - `x`.mean(). The `rcond` parameter\n",
            "    can also be set to a value smaller than its default, but the resulting\n",
            "    fit may be spurious: including contributions from the small singular\n",
            "    values can add numerical noise to the result.\n",
            "    \n",
            "    Note that fitting polynomial coefficients is inherently badly conditioned\n",
            "    when the degree of the polynomial is large or the interval of sample points\n",
            "    is badly centered. The quality of the fit should always be checked in these\n",
            "    cases. When polynomial fits are not satisfactory, splines may be a good\n",
            "    alternative.\n",
            "    \n",
            "    References\n",
            "    ----------\n",
            "    .. [1] Wikipedia, \"Curve fitting\",\n",
            "           https://en.wikipedia.org/wiki/Curve_fitting\n",
            "    .. [2] Wikipedia, \"Polynomial interpolation\",\n",
            "           https://en.wikipedia.org/wiki/Polynomial_interpolation\n",
            "    \n",
            "    Examples\n",
            "    --------\n",
            "    >>> import warnings\n",
            "    >>> x = np.array([0.0, 1.0, 2.0, 3.0,  4.0,  5.0])\n",
            "    >>> y = np.array([0.0, 0.8, 0.9, 0.1, -0.8, -1.0])\n",
            "    >>> z = np.polyfit(x, y, 3)\n",
            "    >>> z\n",
            "    array([ 0.08703704, -0.81349206,  1.69312169, -0.03968254]) # may vary\n",
            "    \n",
            "    It is convenient to use `poly1d` objects for dealing with polynomials:\n",
            "    \n",
            "    >>> p = np.poly1d(z)\n",
            "    >>> p(0.5)\n",
            "    0.6143849206349179 # may vary\n",
            "    >>> p(3.5)\n",
            "    -0.34732142857143039 # may vary\n",
            "    >>> p(10)\n",
            "    22.579365079365115 # may vary\n",
            "    \n",
            "    High-order polynomials may oscillate wildly:\n",
            "    \n",
            "    >>> with warnings.catch_warnings():\n",
            "    ...     warnings.simplefilter('ignore', np.RankWarning)\n",
            "    ...     p30 = np.poly1d(np.polyfit(x, y, 30))\n",
            "    ...\n",
            "    >>> p30(4)\n",
            "    -0.80000000000000204 # may vary\n",
            "    >>> p30(5)\n",
            "    -0.99999999999999445 # may vary\n",
            "    >>> p30(4.5)\n",
            "    -0.10547061179440398 # may vary\n",
            "    \n",
            "    Illustration:\n",
            "    \n",
            "    >>> import matplotlib.pyplot as plt\n",
            "    >>> xp = np.linspace(-2, 6, 100)\n",
            "    >>> _ = plt.plot(x, y, '.', xp, p(xp), '-', xp, p30(xp), '--')\n",
            "    >>> plt.ylim(-2,2)\n",
            "    (-2, 2)\n",
            "    >>> plt.show()\n",
            "\n"
          ]
        }
      ],
      "source": [
        "help(np.polyfit)"
      ]
    },
    {
      "cell_type": "code",
      "execution_count": 11,
      "metadata": {
        "colab": {
          "base_uri": "https://localhost:8080/"
        },
        "id": "3p54r7iqtd8v",
        "outputId": "631e6f6c-86ae-4a3c-ca41-7b17e8774764"
      },
      "outputs": [
        {
          "data": {
            "text/plain": [
              "array([0.04868788, 4.24302822])"
            ]
          },
          "execution_count": 11,
          "metadata": {},
          "output_type": "execute_result"
        }
      ],
      "source": [
        "# Renvoie d'abord le coef d'ordre le plus élevé !\n",
        "np.polyfit(X,y,1)"
      ]
    },
    {
      "cell_type": "code",
      "execution_count": 12,
      "metadata": {
        "id": "aZ8lXOZPtd8w"
      },
      "outputs": [],
      "source": [
        "# Budgets potentiels de dépenses futures\n",
        "potential_spend = np.linspace(0,500,100)"
      ]
    },
    {
      "cell_type": "code",
      "execution_count": 13,
      "metadata": {
        "id": "PGH5wR5Itd8w"
      },
      "outputs": [],
      "source": [
        "predicted_sales =  0.04868788*potential_spend + 4.24302822"
      ]
    },
    {
      "cell_type": "code",
      "execution_count": 14,
      "metadata": {
        "colab": {
          "base_uri": "https://localhost:8080/",
          "height": 264
        },
        "id": "xfwjqXVUtd8w",
        "outputId": "564c217b-b44e-4e9d-add4-4b43abf26881"
      },
      "outputs": [
        {
          "data": {
            "image/png": "[encoded data removed]",
            "text/plain": [
              "<Figure size 432x288 with 1 Axes>"
            ]
          },
          "metadata": {
            "needs_background": "light"
          },
          "output_type": "display_data"
        }
      ],
      "source": [
        "plt.plot(potential_spend,predicted_sales);"
      ]
    },
    {
      "cell_type": "code",
      "execution_count": 15,
      "metadata": {
        "colab": {
          "base_uri": "https://localhost:8080/",
          "height": 280
        },
        "id": "paUaAlYxtd8x",
        "outputId": "8ccae65b-2324-4cea-b80d-a4488609e0d8"
      },
      "outputs": [
        {
          "data": {
            "image/png": "[encoded data removed]",
            "text/plain": [
              "<Figure size 432x288 with 1 Axes>"
            ]
          },
          "metadata": {
            "needs_background": "light"
          },
          "output_type": "display_data"
        }
      ],
      "source": [
        "sns.scatterplot(x='total_spend',y='sales',data=df)\n",
        "plt.plot(potential_spend,predicted_sales,color='red');"
      ]
    },
    {
      "cell_type": "markdown",
      "metadata": {
        "id": "Ig-ewjKItd8x"
      },
      "source": [
        "**Notre prochaine campagne publicitaire aura un coût total de 200 $, combien d'unités espérons-nous vendre grâce à cette campagne ?**"
      ]
    },
    {
      "cell_type": "code",
      "execution_count": 16,
      "metadata": {
        "id": "nKEtp_XOtd8x"
      },
      "outputs": [],
      "source": [
        "spend = 200\n",
        "predicted_sales =  0.04868788*spend + 4.24302822"
      ]
    },
    {
      "cell_type": "code",
      "execution_count": 17,
      "metadata": {
        "colab": {
          "base_uri": "https://localhost:8080/"
        },
        "id": "hrnMyEoPtd8y",
        "outputId": "fa3c37ac-3c39-409f-b372-b1501147233a"
      },
      "outputs": [
        {
          "data": {
            "text/plain": [
              "13.98060422"
            ]
          },
          "execution_count": 17,
          "metadata": {},
          "output_type": "execute_result"
        }
      ],
      "source": [
        "predicted_sales"
      ]
    },
    {
      "cell_type": "markdown",
      "metadata": {
        "id": "3QDgvMRwtd8y"
      },
      "source": [
        "# D'autres considérations... que nous allons explorer de manière beaucoup plus approfondie !"
      ]
    },
    {
      "cell_type": "markdown",
      "metadata": {
        "id": "SJxdT-Dqtd8y"
      },
      "source": [
        "## Overfitting, Underfitting et Mesures de Performance\n",
        "\n",
        "Remarquez que nous nous ajustons à l'ordre = 1, essentiellement une ligne droite, nous pouvons commencer à explorer des ordres plus élevés, mais un ordre plus élevé signifie-t-il un meilleur ajustement global ? Est-il possible de trop s'ajuster ? Ou trop peu ? Comment le savoir et comment définir un bon ajustement ?"
      ]
    },
    {
      "cell_type": "code",
      "execution_count": 18,
      "metadata": {
        "colab": {
          "base_uri": "https://localhost:8080/"
        },
        "id": "auFme6vWtd8y",
        "outputId": "e4179b64-f200-49db-c29b-0287ba033a37"
      },
      "outputs": [
        {
          "data": {
            "text/plain": [
              "array([ 3.07615033e-07, -1.89392449e-04,  8.20886302e-02,  2.70495053e+00])"
            ]
          },
          "execution_count": 18,
          "metadata": {},
          "output_type": "execute_result"
        }
      ],
      "source": [
        "np.polyfit(X,y,3)"
      ]
    },
    {
      "cell_type": "code",
      "execution_count": 19,
      "metadata": {
        "id": "Z2aQ1gENtd8z"
      },
      "outputs": [],
      "source": [
        "# Budgets potentiels de dépenses futures\n",
        "potential_spend = np.linspace(0,500,100)"
      ]
    },
    {
      "cell_type": "code",
      "execution_count": 20,
      "metadata": {
        "id": "6wAScf2Ctd8z"
      },
      "outputs": [],
      "source": [
        "predicted_sales = 3.07615033e-07*potential_spend**3 + -1.89392449e-04*potential_spend**2 + 8.20886302e-02*potential_spend**1 + 2.70495053e+00"
      ]
    },
    {
      "cell_type": "code",
      "execution_count": 21,
      "metadata": {
        "colab": {
          "base_uri": "https://localhost:8080/",
          "height": 280
        },
        "id": "50D75XC9td8z",
        "outputId": "1f6152c2-3908-407f-f948-e22f795bc066"
      },
      "outputs": [
        {
          "data": {
            "image/png": "[encoded data removed]",
            "text/plain": [
              "<Figure size 432x288 with 1 Axes>"
            ]
          },
          "metadata": {
            "needs_background": "light"
          },
          "output_type": "display_data"
        }
      ],
      "source": [
        "sns.scatterplot(x='total_spend',y='sales',data=df)\n",
        "plt.plot(potential_spend,predicted_sales,color='red');"
      ]
    },
    {
      "cell_type": "markdown",
      "metadata": {
        "id": "9vGZEUkHtd8z"
      },
      "source": [
        "**Est-ce mieux que notre ligne droite d'ajustement ? Quels sont les bons moyens de mesurer ce résultat ?**"
      ]
    },
    {
      "cell_type": "markdown",
      "metadata": {
        "id": "9geMcC_Ntd80"
      },
      "source": [
        "## Multiple Features\n",
        "\n",
        "Les données réelles avaient 3 features, pas tout dans les dépenses totales (total_spend), cela nous permettrait de répéter le processus et peut-être d'obtenir un résultat plus précis ?"
      ]
    },
    {
      "cell_type": "code",
      "execution_count": 22,
      "metadata": {
        "id": "fN3QZ8qGtd80"
      },
      "outputs": [],
      "source": [
        "X = df[['TV','radio','newspaper']]\n",
        "y = df['sales']"
      ]
    },
    {
      "cell_type": "code",
      "execution_count": 23,
      "metadata": {
        "colab": {
          "base_uri": "https://localhost:8080/",
          "height": 357
        },
        "id": "cX6RRj2Qtd80",
        "outputId": "592b408f-54c8-4338-e9a8-789f5e6dcbdc"
      },
      "outputs": [
        {
          "ename": "TypeError",
          "evalue": "expected 1D vector for x",
          "output_type": "error",
          "traceback": [
            "\u001b[1;31m---------------------------------------------------------------------------\u001b[0m",
            "\u001b[1;31mTypeError\u001b[0m                                 Traceback (most recent call last)",
            "\u001b[1;32m<ipython-input-23-c5c3a06ed653>\u001b[0m in \u001b[0;36m<module>\u001b[1;34m\u001b[0m\n\u001b[0;32m      1\u001b[0m \u001b[1;31m# Notez qu'ici nous passons 3, ce qui correspond à 3 features uniques, donc nous ne sommes pas encore polynomiaux.\u001b[0m\u001b[1;33m\u001b[0m\u001b[1;33m\u001b[0m\u001b[1;33m\u001b[0m\u001b[0m\n\u001b[1;32m----> 2\u001b[1;33m \u001b[0mnp\u001b[0m\u001b[1;33m.\u001b[0m\u001b[0mpolyfit\u001b[0m\u001b[1;33m(\u001b[0m\u001b[0mX\u001b[0m\u001b[1;33m,\u001b[0m\u001b[0my\u001b[0m\u001b[1;33m,\u001b[0m\u001b[1;36m1\u001b[0m\u001b[1;33m)\u001b[0m\u001b[1;33m\u001b[0m\u001b[1;33m\u001b[0m\u001b[0m\n\u001b[0m",
            "\u001b[1;32m<__array_function__ internals>\u001b[0m in \u001b[0;36mpolyfit\u001b[1;34m(*args, **kwargs)\u001b[0m\n",
            "\u001b[1;32mc:\\Users\\kamal\\anaconda3\\lib\\site-packages\\numpy\\lib\\polynomial.py\u001b[0m in \u001b[0;36mpolyfit\u001b[1;34m(x, y, deg, rcond, full, w, cov)\u001b[0m\n\u001b[0;32m    626\u001b[0m         \u001b[1;32mraise\u001b[0m \u001b[0mValueError\u001b[0m\u001b[1;33m(\u001b[0m\u001b[1;34m\"expected deg >= 0\"\u001b[0m\u001b[1;33m)\u001b[0m\u001b[1;33m\u001b[0m\u001b[1;33m\u001b[0m\u001b[0m\n\u001b[0;32m    627\u001b[0m     \u001b[1;32mif\u001b[0m \u001b[0mx\u001b[0m\u001b[1;33m.\u001b[0m\u001b[0mndim\u001b[0m \u001b[1;33m!=\u001b[0m \u001b[1;36m1\u001b[0m\u001b[1;33m:\u001b[0m\u001b[1;33m\u001b[0m\u001b[1;33m\u001b[0m\u001b[0m\n\u001b[1;32m--> 628\u001b[1;33m         \u001b[1;32mraise\u001b[0m \u001b[0mTypeError\u001b[0m\u001b[1;33m(\u001b[0m\u001b[1;34m\"expected 1D vector for x\"\u001b[0m\u001b[1;33m)\u001b[0m\u001b[1;33m\u001b[0m\u001b[1;33m\u001b[0m\u001b[0m\n\u001b[0m\u001b[0;32m    629\u001b[0m     \u001b[1;32mif\u001b[0m \u001b[0mx\u001b[0m\u001b[1;33m.\u001b[0m\u001b[0msize\u001b[0m \u001b[1;33m==\u001b[0m \u001b[1;36m0\u001b[0m\u001b[1;33m:\u001b[0m\u001b[1;33m\u001b[0m\u001b[1;33m\u001b[0m\u001b[0m\n\u001b[0;32m    630\u001b[0m         \u001b[1;32mraise\u001b[0m \u001b[0mTypeError\u001b[0m\u001b[1;33m(\u001b[0m\u001b[1;34m\"expected non-empty vector for x\"\u001b[0m\u001b[1;33m)\u001b[0m\u001b[1;33m\u001b[0m\u001b[1;33m\u001b[0m\u001b[0m\n",
            "\u001b[1;31mTypeError\u001b[0m: expected 1D vector for x"
          ]
        }
      ],
      "source": [
        "# Notez qu'ici nous passons 3, ce qui correspond à 3 features uniques, donc nous ne sommes pas encore polynomiaux.\n",
        "np.polyfit(X,y,1)"
      ]
    },
    {
      "cell_type": "markdown",
      "metadata": {
        "id": "T05DLS1Otd80"
      },
      "source": [
        "**Uh oh ! Polyfit ne fonctionne qu'avec un tableau X en 1D ! Il va falloir passer à une bibliothèque plus puissante...**"
      ]
    }
  ],
  "metadata": {
    "anaconda-cloud": {},
    "colab": {
      "provenance": []
    },
    "kernelspec": {
      "display_name": "Python 3",
      "language": "python",
      "name": "python3"
    },
    "language_info": {
      "codemirror_mode": {
        "name": "ipython",
        "version": 3
      },
      "file_extension": ".py",
      "mimetype": "text/x-python",
      "name": "python",
      "nbconvert_exporter": "python",
      "pygments_lexer": "ipython3",
      "version": "3.8.8"
    }
  },
  "nbformat": 4,
  "nbformat_minor": 0
}
