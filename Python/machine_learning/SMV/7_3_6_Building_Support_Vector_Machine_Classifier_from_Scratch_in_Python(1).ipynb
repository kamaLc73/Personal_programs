{
  "cells": [
    {
      "cell_type": "markdown",
      "metadata": {
        "id": "OoQnMmCCBfTF"
      },
      "source": [
        "**SVM Classifier**"
      ]
    },
    {
      "cell_type": "markdown",
      "metadata": {
        "id": "VgNJ4FGKBkIu"
      },
      "source": [
        "Equation of the Hyperplane:\n",
        "\n",
        "**y = wx - b**"
      ]
    },
    {
      "cell_type": "markdown",
      "metadata": {
        "id": "X8OJXGuPvDt2"
      },
      "source": [
        "**Gradient Descent:**\n",
        "\n",
        "Gradient Descent is an optimization algorithm used for minimizing the loss function in various machine learning algorithms. It is used for updating the parameters of the learning model.\n",
        "\n",
        "w  =  w - α*dw\n",
        "\n",
        "b  =  b - α*db"
      ]
    },
    {
      "cell_type": "markdown",
      "metadata": {
        "id": "WSAfYP7WmECB"
      },
      "source": [
        "**Learning Rate:**\n",
        "\n",
        "Learning rate is a tuning parameter in an optimization algorithm that determines the step size at each iteration while moving toward a minimum of a loss function."
      ]
    },
    {
      "cell_type": "markdown",
      "metadata": {
        "id": "E9nX8-OIPWnM"
      },
      "source": [
        "Importing the Dependencies"
      ]
    },
    {
      "cell_type": "code",
      "execution_count": 1,
      "metadata": {
        "id": "tzuAfRbBGmTH"
      },
      "outputs": [],
      "source": [
        "# importing numpy library\n",
        "import numpy as np"
      ]
    },
    {
      "cell_type": "markdown",
      "metadata": {
        "id": "p29I221pPhkY"
      },
      "source": [
        "Support Vector Machine Classifier"
      ]
    },
    {
      "cell_type": "code",
      "execution_count": 5,
      "metadata": {
        "id": "x7sKawRDPd4m"
      },
      "outputs": [],
      "source": [
        "class SVM_classifier():\n",
        "\n",
        "  # initiating the hyperparameters\n",
        "  def __init__(self, learning_rate, no_of_iterations, lambda_parameter):\n",
        "\n",
        "    self.learning_rate = learning_rate\n",
        "    self.no_of_iterations = no_of_iterations\n",
        "    self.lambda_parameter = lambda_parameter\n",
        "\n",
        "  # fitting the dataset to SVM Classifier\n",
        "  def fit(self, X, Y):\n",
        "\n",
        "    # m  --> number of Data points --> number of rows\n",
        "    # n  --> number of input features --> number of columns\n",
        "    self.m, self.n = X.shape\n",
        "\n",
        "    # initiating the weight value and bias value\n",
        "    self.w = np.zeros(self.n)\n",
        "    self.b = 0\n",
        "    self.X = X\n",
        "    self.Y = Y\n",
        "\n",
        "    # implementing Gradient Descent algorithm for Optimization\n",
        "    for i in range(self.no_of_iterations):\n",
        "      self.update_weights()\n",
        "\n",
        "  # function for updating the weight and bias value\n",
        "  def update_weights(self):\n",
        "\n",
        "    # label encoding\n",
        "    y_label = np.where(self.Y <= 0, -1, 1)\n",
        "\n",
        "    # gradients ( dw, db)\n",
        "    for index, x_i in enumerate(self.X):\n",
        "      condition = y_label[index] * (np.dot(x_i, self.w) - self.b) >= 1\n",
        "      if (condition == True):\n",
        "        dw = 2 * self.lambda_parameter * self.w\n",
        "        db = 0\n",
        "      else:\n",
        "        dw = 2 * self.lambda_parameter * self.w - np.dot(x_i, y_label[index])\n",
        "        db = y_label[index]\n",
        "\n",
        "      self.w = self.w - self.learning_rate * dw\n",
        "      self.b = self.b - self.learning_rate * db\n",
        "\n",
        "  # predict the label for a given input value\n",
        "  def predict(self, X):\n",
        "    output = np.dot(X, self.w) - self.b\n",
        "    predicted_labels = np.sign(output)\n",
        "    y_hat = np.where(predicted_labels <= -1, 0, 1)\n",
        "    return y_hat"
      ]
    }
  ],
  "metadata": {
    "colab": {
      "provenance": []
    },
    "kernelspec": {
      "display_name": "Python 3",
      "name": "python3"
    },
    "language_info": {
      "codemirror_mode": {
        "name": "ipython",
        "version": 3
      },
      "file_extension": ".py",
      "mimetype": "text/x-python",
      "name": "python",
      "nbconvert_exporter": "python",
      "pygments_lexer": "ipython3",
      "version": "3.8.8"
    }
  },
  "nbformat": 4,
  "nbformat_minor": 0
}
