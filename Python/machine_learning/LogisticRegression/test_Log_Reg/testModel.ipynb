{
 "cells": [
  {
   "cell_type": "code",
   "execution_count": 1,
   "metadata": {},
   "outputs": [],
   "source": [
    "from simplifiedModel import LogisticRegressor, accuracy\n",
    "import numpy as np\n",
    "import pandas as pd"
   ]
  },
  {
   "cell_type": "markdown",
   "metadata": {},
   "source": [
    "Test Real data"
   ]
  },
  {
   "cell_type": "code",
   "execution_count": 2,
   "metadata": {},
   "outputs": [],
   "source": [
    "from sklearn.preprocessing import LabelEncoder, MinMaxScaler\n",
    "import pandas as pd\n",
    "\n",
    "def preprocess_data(X, y):\n",
    "\n",
    "    # Encode the target variable\n",
    "    encoder = LabelEncoder()\n",
    "    y = encoder.fit_transform(y)\n",
    "\n",
    "    # Normalize the features to the range [0, 1]\n",
    "    scaler = MinMaxScaler()\n",
    "    X = pd.DataFrame(scaler.fit_transform(X), columns=X.columns)\n",
    "\n",
    "    return X, y"
   ]
  },
  {
   "cell_type": "code",
   "execution_count": 3,
   "metadata": {},
   "outputs": [
    {
     "name": "stderr",
     "output_type": "stream",
     "text": [
      "c:\\Users\\kamal\\Desktop\\-------s2-------\\MACHINE LEARNING ET PYTHON AV\\Machine Learning\\fichiers\\LogisticRegression\\test_Log_Reg\\simplifiedModel.py:4: RuntimeWarning: overflow encountered in exp\n",
      "  return 1/(1+np.exp(-z))\n"
     ]
    }
   ],
   "source": [
    "model2=LogisticRegressor(max_iter=1000,learning_rate=10)\n",
    "df=pd.read_csv('fake_bills.csv',sep=';')\n",
    "#removing rows with missing values\n",
    "df=df.dropna()\n",
    "#shuffling the rows\n",
    "df = df.sample(frac=1).reset_index(drop=True)\n",
    "\n",
    "# train sample\n",
    "df_train=df.head(1000)\n",
    "x=df_train.drop(['is_genuine'],axis=1)\n",
    "y=df_train['is_genuine']\n",
    "x,y=preprocess_data(x,y)\n",
    "\n",
    "#trainning the model\n",
    "model2.fit(x,y)\n",
    "\n",
    "# test sample\n",
    "df_test=df.tail(400)\n",
    "x_test,y_test=preprocess_data(df_test.drop(['is_genuine'],axis=1),df_test['is_genuine'])"
   ]
  },
  {
   "cell_type": "code",
   "execution_count": 4,
   "metadata": {},
   "outputs": [
    {
     "name": "stdout",
     "output_type": "stream",
     "text": [
      "accuracy is 0.9875\n"
     ]
    },
    {
     "name": "stderr",
     "output_type": "stream",
     "text": [
      "c:\\Users\\kamal\\Desktop\\-------s2-------\\MACHINE LEARNING ET PYTHON AV\\Machine Learning\\fichiers\\LogisticRegression\\test_Log_Reg\\simplifiedModel.py:4: RuntimeWarning: overflow encountered in exp\n",
      "  return 1/(1+np.exp(-z))\n"
     ]
    }
   ],
   "source": [
    "model_accuracy=accuracy(y_test,model2.predict(x_test))\n",
    "print(f'accuracy is {model_accuracy}')"
   ]
  },
  {
   "cell_type": "code",
   "execution_count": 5,
   "metadata": {},
   "outputs": [
    {
     "data": {
      "text/plain": [
       "0.992"
      ]
     },
     "execution_count": 5,
     "metadata": {},
     "output_type": "execute_result"
    }
   ],
   "source": [
    "accuracy(y,model2.predict(x))"
   ]
  }
 ],
 "metadata": {
  "kernelspec": {
   "display_name": "Python 3",
   "language": "python",
   "name": "python3"
  },
  "language_info": {
   "codemirror_mode": {
    "name": "ipython",
    "version": 3
   },
   "file_extension": ".py",
   "mimetype": "text/x-python",
   "name": "python",
   "nbconvert_exporter": "python",
   "pygments_lexer": "ipython3",
   "version": "3.8.8"
  }
 },
 "nbformat": 4,
 "nbformat_minor": 2
}
