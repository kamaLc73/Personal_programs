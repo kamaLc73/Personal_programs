{
  "cells": [
    {
      "cell_type": "code",
      "execution_count": 6,
      "metadata": {
        "colab": {
          "base_uri": "https://localhost:8080/"
        },
        "id": "RlOGRS_7A9vO",
        "outputId": "2fc99abc-df7e-47c8-b797-0218e55e0ebc"
      },
      "outputs": [
        {
          "name": "stdout",
          "output_type": "stream",
          "text": [
            "k___a___m___a___l\n"
          ]
        }
      ],
      "source": [
        "a = 'kamal'\n",
        "a = \"___\".join(a)\n",
        "len(a)\n",
        "print(a)"
      ]
    },
    {
      "cell_type": "code",
      "execution_count": 7,
      "metadata": {
        "colab": {
          "base_uri": "https://localhost:8080/"
        },
        "id": "Md5zuQzF2RpY",
        "outputId": "98adb7c9-caf2-4244-e215-b8194883a90d"
      },
      "outputs": [
        {
          "name": "stdout",
          "output_type": "stream",
          "text": [
            "3\n"
          ]
        },
        {
          "data": {
            "text/plain": [
              "array([[[1, 2, 3],\n",
              "        [4, 5, 6],\n",
              "        [7, 8, 9]],\n",
              "\n",
              "       [[5, 6, 9],\n",
              "        [9, 3, 1],\n",
              "        [4, 3, 2]]])"
            ]
          },
          "execution_count": 7,
          "metadata": {},
          "output_type": "execute_result"
        }
      ],
      "source": [
        "import numpy as np\n",
        "arr = np.array([[[1,2,3],[4,5,6],[7,8,9]],[[5,6,9],[9,3,1],[4,3,2]]])\n",
        "print(arr.ndim)\n",
        "arr"
      ]
    },
    {
      "cell_type": "code",
      "execution_count": 33,
      "metadata": {},
      "outputs": [
        {
          "data": {
            "text/plain": [
              "array([[1., 2., 3., 4.],\n",
              "       [5., 6., 7., 8.]])"
            ]
          },
          "execution_count": 33,
          "metadata": {},
          "output_type": "execute_result"
        }
      ],
      "source": [
        "array2=np.array([[1,2,3,4],[5,6,7,8]], dtype=float)\n",
        "array2"
      ]
    },
    {
      "cell_type": "code",
      "execution_count": 8,
      "metadata": {
        "colab": {
          "base_uri": "https://localhost:8080/"
        },
        "id": "N6nRfDYt2-un",
        "outputId": "c2cc252c-fef0-4ea2-ff93-9b5bc15fdae7"
      },
      "outputs": [
        {
          "name": "stdout",
          "output_type": "stream",
          "text": [
            "[[-1.3784647   0.31531896  0.0236483 ]\n",
            " [ 0.34642209  0.57667193  0.7022388 ]]\n",
            "(2, 3)\n",
            "-1.3784647025134396\n",
            "0.09763922941867124\n",
            "2\n",
            "6\n"
          ]
        }
      ],
      "source": [
        "arr1 = np.random.randn(2,3)\n",
        "print(arr1)\n",
        "#print(arr1.max())\n",
        "print(arr1.shape)\n",
        "print(arr1.min())\n",
        "print(arr1.mean())\n",
        "print(arr1.ndim)\n",
        "print(arr1.size)"
      ]
    },
    {
      "cell_type": "code",
      "execution_count": null,
      "metadata": {
        "colab": {
          "base_uri": "https://localhost:8080/"
        },
        "id": "yl4uMC3j4m7i",
        "outputId": "a61141a9-27ae-4474-9009-7c9065a26624"
      },
      "outputs": [],
      "source": [
        "arr = np.array([[[1, 2, 3], [4, 5, 6]], [[1, 2, 3], [4, 5, 6]]])\n",
        "print(arr)"
      ]
    },
    {
      "cell_type": "code",
      "execution_count": 34,
      "metadata": {
        "colab": {
          "base_uri": "https://localhost:8080/"
        },
        "id": "TGbhfMdx41J_",
        "outputId": "0a93d3d1-493e-434e-861f-9f40ac4bfe2b"
      },
      "outputs": [
        {
          "name": "stdout",
          "output_type": "stream",
          "text": [
            "[[[1 2 3 4]]]\n",
            "number of dimensions : 3\n"
          ]
        }
      ],
      "source": [
        "arr = np.array([1, 2, 3, 4], ndmin=3)\n",
        "print(arr)\n",
        "print('number of dimensions :', arr.ndim)\n"
      ]
    },
    {
      "cell_type": "code",
      "execution_count": 35,
      "metadata": {
        "colab": {
          "base_uri": "https://localhost:8080/"
        },
        "id": "N2ZcmPbf5Ejm",
        "outputId": "f2cf337e-e5b6-48c4-f67f-bd39c077cb8f"
      },
      "outputs": [
        {
          "name": "stdout",
          "output_type": "stream",
          "text": [
            "[[0. 0. 0. 0. 0.]\n",
            " [0. 0. 0. 0. 0.]\n",
            " [0. 0. 0. 0. 0.]\n",
            " [0. 0. 0. 0. 0.]]\n"
          ]
        }
      ],
      "source": [
        "x=np.zeros((4,5))\n",
        "print(x)"
      ]
    },
    {
      "cell_type": "code",
      "execution_count": 36,
      "metadata": {
        "colab": {
          "base_uri": "https://localhost:8080/"
        },
        "id": "ZYU84y4J5Gsc",
        "outputId": "95ce2aac-4b5a-47c7-9fde-c12057157c40"
      },
      "outputs": [
        {
          "name": "stdout",
          "output_type": "stream",
          "text": [
            "[[1. 1. 1. 1. 1.]\n",
            " [1. 1. 1. 1. 1.]\n",
            " [1. 1. 1. 1. 1.]\n",
            " [1. 1. 1. 1. 1.]]\n"
          ]
        }
      ],
      "source": [
        "x=np.ones((4,5))\n",
        "print(x)\n"
      ]
    },
    {
      "cell_type": "code",
      "execution_count": 42,
      "metadata": {
        "colab": {
          "base_uri": "https://localhost:8080/"
        },
        "id": "5YkVW7mu5HtR",
        "outputId": "9581b852-36e7-40f5-cdaa-c3a7e09e1314"
      },
      "outputs": [
        {
          "name": "stdout",
          "output_type": "stream",
          "text": [
            "[[5 5 5 5 5 5 5 5 5]\n",
            " [5 5 5 5 5 5 5 5 5]\n",
            " [5 5 5 5 5 5 5 5 5]\n",
            " [5 5 5 5 5 5 5 5 5]]\n"
          ]
        }
      ],
      "source": [
        "x=np.full((4,9),5)\n",
        "print(x)"
      ]
    },
    {
      "cell_type": "code",
      "execution_count": 43,
      "metadata": {
        "colab": {
          "base_uri": "https://localhost:8080/"
        },
        "id": "szciDz9T5KE7",
        "outputId": "71bcaf77-b9d2-4492-9ec1-c1891a44d284"
      },
      "outputs": [
        {
          "name": "stdout",
          "output_type": "stream",
          "text": [
            "[[0.3785901  0.4728283  0.20512208 0.56396154]\n",
            " [0.45336142 0.13074545 0.90909349 0.93032574]\n",
            " [0.13035052 0.69278862 0.09019127 0.32117755]]\n"
          ]
        }
      ],
      "source": [
        "x=np.random.random((3,4))\n",
        "print(x)\n"
      ]
    },
    {
      "cell_type": "code",
      "execution_count": 45,
      "metadata": {
        "colab": {
          "base_uri": "https://localhost:8080/"
        },
        "id": "mK7OXcYg5PeH",
        "outputId": "358840eb-1c6e-4f67-fc41-f379c2eae9f6"
      },
      "outputs": [
        {
          "name": "stdout",
          "output_type": "stream",
          "text": [
            "[[55 39 14 91]\n",
            " [27 79 96 14]\n",
            " [73 84 78 37]]\n"
          ]
        }
      ],
      "source": [
        "x=np.random.randint(10,100,(3,4))\n",
        "print(x)\n"
      ]
    },
    {
      "cell_type": "code",
      "execution_count": 65,
      "metadata": {
        "colab": {
          "base_uri": "https://localhost:8080/"
        },
        "id": "wcjHQW3x5TdV",
        "outputId": "a2971ffd-9fe4-4c88-c566-8010106e8af1"
      },
      "outputs": [
        {
          "name": "stdout",
          "output_type": "stream",
          "text": [
            "[[[ 3 14 12]\n",
            "  [ 9 10  8]]]\n"
          ]
        }
      ],
      "source": [
        "x=np.random.randint(3,16,(1,2,3))\n",
        "print(x)"
      ]
    },
    {
      "cell_type": "code",
      "execution_count": 77,
      "metadata": {},
      "outputs": [
        {
          "data": {
            "text/plain": [
              "5"
            ]
          },
          "execution_count": 77,
          "metadata": {},
          "output_type": "execute_result"
        }
      ],
      "source": [
        "list1=[10,20,30,40,50]\n",
        "array1=np.array(list1)\n",
        "type(array1)\n",
        "array1.size\n"
      ]
    },
    {
      "cell_type": "code",
      "execution_count": 86,
      "metadata": {
        "colab": {
          "base_uri": "https://localhost:8080/"
        },
        "id": "YVY48nwF6SPm",
        "outputId": "77aadb1e-fb0c-4244-8f85-79dc5f2295b9"
      },
      "outputs": [
        {
          "name": "stdout",
          "output_type": "stream",
          "text": [
            "[ 7. 14. 21. 28. 35.]\n"
          ]
        }
      ],
      "source": [
        "x=np.linspace(7,35,5)\n",
        "print(x)\n"
      ]
    },
    {
      "cell_type": "code",
      "execution_count": 87,
      "metadata": {},
      "outputs": [],
      "source": [
        "Y, X = np.mgrid[-3:3:100j, -3:3:100j]\n"
      ]
    },
    {
      "cell_type": "code",
      "execution_count": null,
      "metadata": {
        "colab": {
          "base_uri": "https://localhost:8080/"
        },
        "id": "MJILHGj07LrS",
        "outputId": "3e88e497-1aa8-46d4-ff81-75ba464e5ac7"
      },
      "outputs": [],
      "source": [
        "list1=[10,20,30,40,50]\n",
        "array1=np.asarray(list1)\n",
        "print(array1)\n",
        "type(array1)"
      ]
    },
    {
      "cell_type": "code",
      "execution_count": null,
      "metadata": {
        "colab": {
          "base_uri": "https://localhost:8080/",
          "height": 174
        },
        "id": "zrf5Fe437n6-",
        "outputId": "754e5507-cbbb-4248-cdfd-460e45b1dc30"
      },
      "outputs": [],
      "source": [
        "x=np.random.randint(10,99,(4,5))\n",
        "print(x)\n",
        "print(\"Shape of the array:\\n \",x.shape)\n",
        "list1 = [x.ndim, x.size, x.dtype]\n",
        "list2 = [x.max(), x.min(), x.mean(), x.argmax(), x.argmin()]\n",
        "ar1= np.asarray(list1)\n",
        "ar2= np.asarray(list2)\n",
        "print(ar1)\n",
        "print(ar2)\n",
        "'''print(list1)\n",
        "print(list2)'''\n"
      ]
    },
    {
      "cell_type": "code",
      "execution_count": null,
      "metadata": {
        "colab": {
          "base_uri": "https://localhost:8080/"
        },
        "id": "tCTshUN1-8lE",
        "outputId": "f6e7f7c9-1849-4c72-f1ef-330ec4aa698d"
      },
      "outputs": [],
      "source": [
        "a=np.random.randint(10,20,(3,3))\n",
        "b=np.random.randint(20,30,(3,3))\n",
        "'''print(a)\n",
        "print(b)'''\n",
        "#c = np.add(a,b)\n",
        "x = a+b\n",
        "x\n"
      ]
    },
    {
      "cell_type": "code",
      "execution_count": null,
      "metadata": {
        "colab": {
          "base_uri": "https://localhost:8080/"
        },
        "id": "6sOmr_7f-9sH",
        "outputId": "dd1e2b96-53e7-4095-fdcd-7a49cdfe2508"
      },
      "outputs": [],
      "source": [
        "arr=np.random.randint(0,365,(4,3))\n",
        "arr\n",
        "np.sqrt(arr)\n",
        "np.sin(arr)\n",
        "np.cos(arr)\n",
        "np.log(arr)\n",
        "arr\n",
        "arr.argmax()\n",
        "arr.std()\n",
        "arr.var()"
      ]
    },
    {
      "cell_type": "code",
      "execution_count": null,
      "metadata": {
        "colab": {
          "base_uri": "https://localhost:8080/"
        },
        "id": "Tzzv_iKU_1wA",
        "outputId": "a656c769-cce9-4899-f558-942f71dd326f"
      },
      "outputs": [],
      "source": [
        "arr=np.random.randint(1,10,(3,5))\n",
        "print(arr)\n",
        "'''print(\"---------------\")\n",
        "print(arr.sum(axis=0))\n",
        "print(\"---------------\")\n",
        "print(arr.sum(axis=1))\n",
        "print(\"---------------\")\n",
        "print(arr.shape)\n",
        "print(\"---------------\")\n",
        "print(arr.size)\n",
        "print(\"---------------\")\n",
        "print(np.transpose(arr))\n",
        "print(\"---------------\")\n",
        "print(arr.reshape(5,3))'''\n",
        "arr[0,1]"
      ]
    },
    {
      "cell_type": "code",
      "execution_count": null,
      "metadata": {
        "colab": {
          "base_uri": "https://localhost:8080/"
        },
        "id": "mML8Gzz1DLnD",
        "outputId": "6a62fada-0765-4a4d-f164-5f206807a6f9"
      },
      "outputs": [],
      "source": [
        "x = np.array([[3,4],[1,9]],ndmin = 4)\n",
        "x"
      ]
    },
    {
      "cell_type": "code",
      "execution_count": null,
      "metadata": {
        "colab": {
          "base_uri": "https://localhost:8080/"
        },
        "id": "_dcMmKHkH3jG",
        "outputId": "86546a0b-197e-4495-dc37-6e081e3f19af"
      },
      "outputs": [],
      "source": [
        "arr_2d=np.random.randint(0,1000,(3,5))\n",
        "print(arr_2d,arr_2d.size)\n",
        "arr_2d[arr_2d<50]\n",
        "b = arr_2d < 653\n",
        "b\n"
      ]
    }
  ],
  "metadata": {
    "colab": {
      "provenance": [],
      "toc_visible": true
    },
    "kernelspec": {
      "display_name": "Python 3",
      "name": "python3"
    },
    "language_info": {
      "codemirror_mode": {
        "name": "ipython",
        "version": 3
      },
      "file_extension": ".py",
      "mimetype": "text/x-python",
      "name": "python",
      "nbconvert_exporter": "python",
      "pygments_lexer": "ipython3",
      "version": "3.8.8"
    }
  },
  "nbformat": 4,
  "nbformat_minor": 0
}
